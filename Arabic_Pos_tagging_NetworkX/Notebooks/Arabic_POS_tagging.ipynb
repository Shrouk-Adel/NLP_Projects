{
  "nbformat": 4,
  "nbformat_minor": 0,
  "metadata": {
    "colab": {
      "provenance": [],
      "gpuType": "T4"
    },
    "kernelspec": {
      "name": "python3",
      "display_name": "Python 3"
    },
    "language_info": {
      "name": "python"
    },
    "accelerator": "GPU"
  },
  "cells": [
    {
      "cell_type": "markdown",
      "source": [
        "### Setup"
      ],
      "metadata": {
        "id": "7sRyPgl4147G"
      }
    },
    {
      "cell_type": "code",
      "source": [
        "!pip install camel-tools\n",
        "!pip install -U transformers\n",
        "!pip install networkx\n",
        "!pip install conllu==6.0.0\n",
        "!pip install gensim==4.3.3"
      ],
      "metadata": {
        "id": "zLstACGX9bTl"
      },
      "execution_count": null,
      "outputs": []
    },
    {
      "cell_type": "markdown",
      "source": [
        "# Baseline Method (Rule-based)"
      ],
      "metadata": {
        "id": "jWotT61TaJ5_"
      }
    },
    {
      "cell_type": "code",
      "source": [
        "import json\n",
        "import os\n",
        "import re\n",
        "import torch\n",
        "\n",
        "from camel_tools.utils.dediac import dediac_ar\n",
        "from camel_tools.utils.normalize import normalize_alef_ar, normalize_teh_marbuta_ar, normalize_alef_maksura_ar\n",
        "\n",
        "from camel_tools.tokenizers.word import simple_word_tokenize\n",
        "from camel_tools.morphology.database import MorphologyDB\n",
        "from camel_tools.morphology.analyzer import Analyzer\n",
        "\n",
        "\n",
        "import networkx as nx\n",
        "import matplotlib.pyplot as plt\n"
      ],
      "metadata": {
        "id": "e_zPxlzl2CQT"
      },
      "execution_count": null,
      "outputs": []
    },
    {
      "cell_type": "code",
      "source": [
        "# List available packages\n",
        "!camel_data --list"
      ],
      "metadata": {
        "colab": {
          "base_uri": "https://localhost:8080/"
        },
        "id": "s2HhY1lVfo3M",
        "outputId": "e174e6ee-59f9-4686-ad47-b6e1e63d7fe0"
      },
      "execution_count": null,
      "outputs": [
        {
          "output_type": "stream",
          "name": "stdout",
          "text": [
            "Package Name                      Size  License     Description\n",
            "----------------------------  --------  ----------  -------------------------------------------------------------------------------------------------------------------------\n",
            "all                                                 All available CAMeL Tools packages\n",
            "defaults                                            Default datasets for all CAMeL Tools components\n",
            "dialectid-all                                       All available dialect identification models\n",
            "dialectid-model26             371.2 MB  MIT         Dialect identification model trained to differentiating between 25 Arabic city dialects as well as Modern Standard Arabic\n",
            "dialectid-model6              153.0 MB  MIT         Dialect identification model trained to differentiating between 5 Arabic city dialects as well as Modern Standard Arabic\n",
            "disambig-bert-unfactored-all                        All available unfactored BERT disambiguation models\n",
            "disambig-bert-unfactored-egy  445.5 MB  MIT         Unfactored BERT model for disambiguating Egyptian Arabic\n",
            "disambig-bert-unfactored-glf  442.3 MB  MIT         Unfactored BERT model for disambiguating Gulf Arabic\n",
            "disambig-bert-unfactored-lev  441.2 MB  MIT         Unfactored BERT model for disambiguating Levantine Arabic\n",
            "disambig-bert-unfactored-msa  445.0 MB  MIT         Unfactored BERT model for disambiguating Modern Standard Arabic\n",
            "disambig-mle-all                                    All available MLE disambiguation models\n",
            "disambig-mle-calima-egy-r13    27.2 MB  GPL v2      MLE model for disambiguating Egyptian Arabic\n",
            "disambig-mle-calima-msa-r13    88.7 MB  GPL v2      MLE model for disambiguating Modern Standard Arabic\n",
            "light                                               A minimal set of packages for performing morphological analysis, disambiguation, and dialect identification.\n",
            "morphology-db-all                                   All available morphology databases\n",
            "morphology-db-egy-r13          67.3 MB  GPL v2      Database for analyzing Egyptian Arabic\n",
            "morphology-db-glf-01            8.0 MB  CC BY 4.0   Database for analyzing Gulf Arabic\n",
            "morphology-db-lev-01           10.6 MB  CC BY 4.0   Database for analyzing Levantine Arabic\n",
            "morphology-db-msa-r13          40.5 MB  GPL v2      Database for analyzing Modern Standard Arabic\n",
            "morphology-db-msa-s31          44.8 MB  LDC         Database for analyzing Modern Standard Arabic\n",
            "ner-all                                             All available named-entity-recognition models\n",
            "ner-arabert                   541.6 MB  AraBERT     Named Entity Recognition model generated by fine-tuning AraBERT\n",
            "sentiment-analysis-all                              All available sentiment analysis models\n",
            "sentiment-analysis-arabert    541.6 MB  AraBERT     Sentiment Analysis model generated by fine-tuning AraBERT\n",
            "sentiment-analysis-mbert      712.5 MB  Apache 2.0  Sentiment Analysis model generated by fine-tuning Multilingual BERT\n",
            "\n"
          ]
        }
      ]
    },
    {
      "cell_type": "code",
      "source": [
        "import subprocess\n",
        "import sys\n",
        "\n",
        "# Install the MSA morphology database\n",
        "try:\n",
        "    result = subprocess.run([\n",
        "        sys.executable, '-m', 'camel_tools.cli.camel_data',\n",
        "        '--install', 'morphology-db-msa-r13'\n",
        "    ], capture_output=True, text=True, timeout=300)\n",
        "\n",
        "    print(\"Return code:\", result.returncode)\n",
        "    print(\"STDOUT:\", result.stdout)\n",
        "\n",
        "    if result.stderr:\n",
        "        print(\"STDERR:\", result.stderr)\n",
        "\n",
        "    if result.returncode == 0:\n",
        "        print(\"Database installed successfully!\")\n",
        "    else:\n",
        "        print(\"Installation failed\")\n",
        "\n",
        "except Exception as e:\n",
        "    print(f\"Error: {e}\")"
      ],
      "metadata": {
        "colab": {
          "base_uri": "https://localhost:8080/"
        },
        "id": "KAQ-9dhtf_yP",
        "outputId": "78ecdfb3-233a-4366-e204-fbebe300fbe0"
      },
      "execution_count": null,
      "outputs": [
        {
          "output_type": "stream",
          "name": "stdout",
          "text": [
            "Return code: 0\n",
            "STDOUT: The following packages will be installed: 'morphology-db-msa-r13'\n",
            "\n",
            "STDERR: \n",
            "Downloading package 'morphology-db-msa-r13':   0%|\u001b[32m          \u001b[0m| 0.00/40.5M [00:00<?, ?B/s]\n",
            "Downloading package 'morphology-db-msa-r13':  10%|\u001b[32m█         \u001b[0m| 4.23M/40.5M [00:00<00:01, 19.1MB/s]\n",
            "Downloading package 'morphology-db-msa-r13':  21%|\u001b[32m██        \u001b[0m| 8.45M/40.5M [00:00<00:01, 27.7MB/s]\n",
            "Downloading package 'morphology-db-msa-r13':  35%|\u001b[32m███▍      \u001b[0m| 14.2M/40.5M [00:00<00:00, 38.1MB/s]\n",
            "Downloading package 'morphology-db-msa-r13':  52%|\u001b[32m█████▏    \u001b[0m| 21.0M/40.5M [00:00<00:00, 40.5MB/s]\n",
            "Downloading package 'morphology-db-msa-r13':  63%|\u001b[32m██████▎   \u001b[0m| 25.4M/40.5M [00:00<00:00, 26.7MB/s]\n",
            "Downloading package 'morphology-db-msa-r13':  78%|\u001b[32m███████▊  \u001b[0m| 31.5M/40.5M [00:00<00:00, 32.5MB/s]\n",
            "Downloading package 'morphology-db-msa-r13':  97%|\u001b[32m█████████▋\u001b[0m| 39.4M/40.5M [00:01<00:00, 42.9MB/s]\n",
            "Downloading package 'morphology-db-msa-r13': 100%|\u001b[32m██████████\u001b[0m| 40.5M/40.5M [00:01<00:00, 36.5MB/s]\n",
            "\n",
            "Extracting package 'morphology-db-msa-r13':   0%|\u001b[32m          \u001b[0m| 0.00/40.5M [00:00<?, ?B/s]\n",
            "Extracting package 'morphology-db-msa-r13': 100%|\u001b[32m██████████\u001b[0m| 40.5M/40.5M [00:00<00:00, 604MB/s]\n",
            "\n",
            "Database installed successfully!\n"
          ]
        }
      ]
    },
    {
      "cell_type": "code",
      "source": [
        "# Use the full path to the database file\n",
        "db_path = '/root/.camel_tools/data/morphology_db/calima-msa-r13/morphology.db'\n",
        "analyzer = Analyzer(MorphologyDB(db_path))\n",
        "\n",
        "print(\"✓ Analyzer created successfully!\")"
      ],
      "metadata": {
        "colab": {
          "base_uri": "https://localhost:8080/"
        },
        "id": "e2HnifDGhPX2",
        "outputId": "2ef24c9e-4696-4d2d-fef6-e5855861b89e"
      },
      "execution_count": null,
      "outputs": [
        {
          "output_type": "stream",
          "name": "stdout",
          "text": [
            "✓ Analyzer created successfully!\n"
          ]
        }
      ]
    },
    {
      "cell_type": "code",
      "source": [
        "def pos_camel(text:str):\n",
        "    # tokenize\n",
        "    tokens = simple_word_tokenize(text)\n",
        "\n",
        "    # Analyze each token\n",
        "    for token in tokens:\n",
        "        analyses = analyzer.analyze(token)\n",
        "        if analyses:\n",
        "            # Take first analysis as baseline POS\n",
        "            pos = analyses[0]['pos']\n",
        "        else:\n",
        "            pos = \"UNK\"  # Unknown\n",
        "        print(f\"{token}\\t{pos}\")\n"
      ],
      "metadata": {
        "id": "An8e9H01c3oh"
      },
      "execution_count": null,
      "outputs": []
    },
    {
      "cell_type": "code",
      "source": [
        "text ='''عايز أروح Google بالتاكسي،\n",
        "بس كتبت كتب كتير في البيت وبالمدرسة.\n",
        "'''\n",
        "pos_camel(text)"
      ],
      "metadata": {
        "colab": {
          "base_uri": "https://localhost:8080/"
        },
        "id": "yGLNj1Rkj3EH",
        "outputId": "721f573f-0f91-4e54-f652-00c315e9f8a0"
      },
      "execution_count": null,
      "outputs": [
        {
          "output_type": "stream",
          "name": "stdout",
          "text": [
            "عايز\tnoun\n",
            "أروح\tverb\n",
            "Google\tforeign\n",
            "بالتاكسي\tnoun\n",
            "،\tpunc\n",
            "بس\tverb\n",
            "كتبت\tverb\n",
            "كتب\tnoun\n",
            "كتير\tUNK\n",
            "في\tabbrev\n",
            "البيت\tnoun\n",
            "وبالمدرسة\tnoun\n",
            ".\tpunc\n"
          ]
        }
      ]
    },
    {
      "cell_type": "markdown",
      "source": [
        "**Limitaions**\n",
        "1. No contextual disambiguation (rule-based, not deep learning).\n",
        "2. Works only for MSA, poor on dialects.\n",
        "3. Can’t handle foreign named entities.\n",
        "4. Over-segmentation or missed clitics."
      ],
      "metadata": {
        "id": "q0Ej5_XKjVea"
      }
    },
    {
      "cell_type": "markdown",
      "source": [
        "# DeepLearning Methods"
      ],
      "metadata": {
        "id": "7ACqpUyClh1t"
      }
    },
    {
      "cell_type": "markdown",
      "source": [
        "### 1. Import libraries"
      ],
      "metadata": {
        "id": "2cgt9RaiVeNi"
      }
    },
    {
      "cell_type": "code",
      "source": [
        "import conllu\n",
        "import matplotlib.pyplot as plt\n",
        "import pandas as pd\n",
        "import re\n",
        "import seaborn as sns\n",
        "import numpy as np\n",
        "\n",
        "#encode the corpus to numbers\n",
        "import tensorflow as tf\n",
        "from tensorflow.keras.preprocessing.text import Tokenizer\n",
        "from tensorflow.keras.preprocessing.sequence import pad_sequences\n",
        "import gensim\n",
        "\n",
        "\n",
        "#build the lstm\n",
        "\n",
        "from sklearn.model_selection import train_test_split\n",
        "from tensorflow.keras.models import Sequential\n",
        "from tensorflow.keras.layers import Dense,Embedding ,Bidirectional ,LSTM ,TimeDistributed,InputLayer,Conv1D,GRU ,SimpleRNN ,Dropout\n",
        "from tensorflow.keras.callbacks import EarlyStopping\n",
        "\n",
        "\n",
        "#performance evaluation\n",
        "from sklearn import metrics\n",
        "from sklearn.metrics import multilabel_confusion_matrix\n",
        "\n",
        "#save model\n",
        "from tensorflow.keras.models import Model\n",
        "from tensorflow.keras.models import load_model"
      ],
      "metadata": {
        "id": "oDPSw3J2mivt"
      },
      "execution_count": 2,
      "outputs": []
    },
    {
      "cell_type": "markdown",
      "source": [
        "### 2.Load data"
      ],
      "metadata": {
        "id": "xaVX1oTYcId0"
      }
    },
    {
      "cell_type": "code",
      "source": [
        "file_path ='/content/ar_pud-ud-test.conllu'\n",
        "with open(file_path ,mode='r',encoding='utf-8') as f:\n",
        "  data = f.read()\n",
        "\n",
        "\n",
        "type(data)"
      ],
      "metadata": {
        "colab": {
          "base_uri": "https://localhost:8080/"
        },
        "id": "7ejN5WoLcEBp",
        "outputId": "4d6344ab-2307-49f4-8465-029369447d37"
      },
      "execution_count": 4,
      "outputs": [
        {
          "output_type": "execute_result",
          "data": {
            "text/plain": [
              "str"
            ]
          },
          "metadata": {},
          "execution_count": 4
        }
      ]
    },
    {
      "cell_type": "code",
      "source": [
        "print(data[1:100]) # it will show first 20 character"
      ],
      "metadata": {
        "colab": {
          "base_uri": "https://localhost:8080/"
        },
        "id": "tMk_1sdPcaK9",
        "outputId": "c47da2e3-265f-4142-b0b3-2f75fbd7bf95"
      },
      "execution_count": 5,
      "outputs": [
        {
          "output_type": "stream",
          "name": "stdout",
          "text": [
            " newdoc id = n01001\n",
            "# sent_id = n01001011\n",
            "# text = كتبت كوري شولمان, المساعدة الخاصة لأوباما في تدو\n"
          ]
        }
      ]
    },
    {
      "cell_type": "code",
      "source": [
        "sentences =conllu.parse(data)\n",
        "sentences[0].metadata"
      ],
      "metadata": {
        "colab": {
          "base_uri": "https://localhost:8080/"
        },
        "id": "4qlDntKLd7jQ",
        "outputId": "5e49aef2-ef85-4362-d897-2d2421db38a8"
      },
      "execution_count": 6,
      "outputs": [
        {
          "output_type": "execute_result",
          "data": {
            "text/plain": [
              "{'newdoc id': 'n01001',\n",
              " 'sent_id': 'n01001011',\n",
              " 'text': 'كتبت كوري شولمان, المساعدة الخاصة لأوباما في تدوينة نشرتها يوم الإثنين: \"فيما الكثير من عمليات الانتقال الرقمي غير مسبوقة في الولايات المتحدة, فإن الانتقال السلمي للسلطة سبق له أن حدث\".',\n",
              " 'original_text': 'كتبت كوري شولمان, المساعدة الخاصة لأوباما في تدوينة نشرتها يوم الإثنين: \"فيما الكثير من عمليات الانتقال الرقمي غير مسبوقة في الولايات المتحدة, فإن الانتقال السلمي للسلطة سبق له أن حدث\".',\n",
              " 'text_en': '“While much of the digital transition is unprecedented in the United States, the peaceful transition of power is not,” Obama special assistant Kori Schulman wrote in a blog post Monday.'}"
            ]
          },
          "metadata": {},
          "execution_count": 6
        }
      ]
    },
    {
      "cell_type": "code",
      "source": [
        "sentences[0][0]"
      ],
      "metadata": {
        "colab": {
          "base_uri": "https://localhost:8080/"
        },
        "id": "FC-Q7RH7d7f-",
        "outputId": "4380d768-db65-42a3-b4ee-3e9ead52390c"
      },
      "execution_count": 7,
      "outputs": [
        {
          "output_type": "execute_result",
          "data": {
            "text/plain": [
              "{'id': 1,\n",
              " 'form': 'كتبت',\n",
              " 'lemma': 'كَتَب',\n",
              " 'upos': 'VERB',\n",
              " 'xpos': 'VBC',\n",
              " 'feats': {'Aspect': 'Perf',\n",
              "  'Gender': 'Fem',\n",
              "  'Number': 'Sing',\n",
              "  'Person': '3',\n",
              "  'Tense': 'Past',\n",
              "  'Voice': 'Act'},\n",
              " 'head': 0,\n",
              " 'deprel': 'root',\n",
              " 'deps': None,\n",
              " 'misc': {'LId': 'كَتَب-ُ_1'}}"
            ]
          },
          "metadata": {},
          "execution_count": 7
        }
      ]
    },
    {
      "cell_type": "code",
      "source": [
        "sentences[0][1]"
      ],
      "metadata": {
        "colab": {
          "base_uri": "https://localhost:8080/"
        },
        "id": "FxN0KiiTfQFV",
        "outputId": "483532bc-ae98-478a-82ae-e3dd26ea3029"
      },
      "execution_count": 8,
      "outputs": [
        {
          "output_type": "execute_result",
          "data": {
            "text/plain": [
              "{'id': 2,\n",
              " 'form': 'كوري',\n",
              " 'lemma': 'كوري',\n",
              " 'upos': 'PROPN',\n",
              " 'xpos': 'NNP',\n",
              " 'feats': {'Case': 'Nom', 'Gender': 'Fem', 'Number': 'Sing'},\n",
              " 'head': 1,\n",
              " 'deprel': 'nsubj',\n",
              " 'deps': None,\n",
              " 'misc': {'LId': 'كوري_0'}}"
            ]
          },
          "metadata": {},
          "execution_count": 8
        }
      ]
    },
    {
      "cell_type": "markdown",
      "source": [
        "### 3.Preprocessing"
      ],
      "metadata": {
        "id": "0QqWb5L_grUJ"
      }
    },
    {
      "cell_type": "code",
      "source": [
        "def remove_tashkeel(w):\n",
        "    #remove tashkeel\n",
        "    p_tashkeel = re.compile(r'[\\u0617-\\u061A\\u064B-\\u0652]')\n",
        "    w = re.sub(p_tashkeel,\"\", w)\n",
        "    return w"
      ],
      "metadata": {
        "id": "PxzauWBJhpGj"
      },
      "execution_count": 9,
      "outputs": []
    },
    {
      "cell_type": "code",
      "source": [
        "import re\n",
        "\n",
        "corpus = []                            # list of dictionaries, each dict is a sentence\n",
        "list_pos = []                          # A flat list of all POS tags (from all sentences).\n",
        "list_words = []                        # A flat list of all words (after preprocessing).\n",
        "pos = []                               # A list of POS tags per sentence (nested list).\n",
        "list_sentences = []                    # Stores raw text of sentences (from metadata).\n",
        "\n",
        "# Regex to skip English sentences\n",
        "re_pattern = re.compile(r'[a-zA-Z]+')\n",
        "\n",
        "for sentence in sentences:\n",
        "    sentence_txt = sentence.metadata['text']\n",
        "\n",
        "    # Skip if the sentence contains English letters\n",
        "    if re_pattern.search(sentence_txt):\n",
        "        continue\n",
        "\n",
        "    # Save the raw Arabic sentence\n",
        "    list_sentences.append(sentence_txt)\n",
        "\n",
        "    # Collect tokens and POS tags\n",
        "    word_dict = {}\n",
        "    pos_tags = []\n",
        "\n",
        "    for idx, token in enumerate(sentence):\n",
        "        word_str = remove_tashkeel(token['form'])   # cleaned word\n",
        "        word_pos = token['upos']                   # POS tag\n",
        "\n",
        "        # Store for later use\n",
        "        list_words.append(word_str)\n",
        "        list_pos.append(word_pos)\n",
        "        pos_tags.append(word_pos)\n",
        "\n",
        "        # Build dictionary entry for this word\n",
        "        word_dict[idx] = [word_str, word_pos, sentence_txt, len(sentence_txt)]\n",
        "\n",
        "    # Add sentence-level data\n",
        "    pos.append(pos_tags)\n",
        "    corpus.append(word_dict)\n"
      ],
      "metadata": {
        "id": "tSOLRbzffQCM"
      },
      "execution_count": 10,
      "outputs": []
    },
    {
      "cell_type": "code",
      "source": [
        "corpus[0][0]"
      ],
      "metadata": {
        "colab": {
          "base_uri": "https://localhost:8080/"
        },
        "id": "75Wp5kyXBS2g",
        "outputId": "baedb5d2-ce1c-4639-d724-3e5401e7fb3d"
      },
      "execution_count": 11,
      "outputs": [
        {
          "output_type": "execute_result",
          "data": {
            "text/plain": [
              "['كتبت',\n",
              " 'VERB',\n",
              " 'كتبت كوري شولمان, المساعدة الخاصة لأوباما في تدوينة نشرتها يوم الإثنين: \"فيما الكثير من عمليات الانتقال الرقمي غير مسبوقة في الولايات المتحدة, فإن الانتقال السلمي للسلطة سبق له أن حدث\".',\n",
              " 185]"
            ]
          },
          "metadata": {},
          "execution_count": 11
        }
      ]
    },
    {
      "cell_type": "code",
      "source": [
        "#report the info of the cleaned corpus\n",
        "print(\"The corpus has {} sentences\".format(len(corpus)))"
      ],
      "metadata": {
        "colab": {
          "base_uri": "https://localhost:8080/"
        },
        "id": "IkhQ_dVFiIHX",
        "outputId": "b9563ffc-4446-4228-b1aa-cbed6263f090"
      },
      "execution_count": 12,
      "outputs": [
        {
          "output_type": "stream",
          "name": "stdout",
          "text": [
            "The corpus has 998 sentences\n"
          ]
        }
      ]
    },
    {
      "cell_type": "markdown",
      "source": [
        "### 4.Preprocessing of Input Text data"
      ],
      "metadata": {
        "id": "Y3GXY8t0i3qS"
      }
    },
    {
      "cell_type": "markdown",
      "source": [
        "#### Tokanization"
      ],
      "metadata": {
        "id": "r3P_4gVvk-uq"
      }
    },
    {
      "cell_type": "code",
      "source": [
        "tok = Tokenizer(oov_token='<UNK>')\n",
        "tok.fit_on_texts(list_sentences)\n",
        "\n",
        "\n",
        "vocab_size=len(tok.word_index)+1    #the size is including the padding\n",
        "\n",
        "# convet text into sequence\n",
        "sentence_sequences=tok.texts_to_sequences(list_sentences)"
      ],
      "metadata": {
        "id": "tAKzEX3Kk8wW"
      },
      "execution_count": 13,
      "outputs": []
    },
    {
      "cell_type": "markdown",
      "source": [
        "#### Padding"
      ],
      "metadata": {
        "id": "TuwbwCPplxwh"
      }
    },
    {
      "cell_type": "code",
      "source": [
        "def sentence_max_len(list_sentences):\n",
        "    list_sentence_len=[]\n",
        "    for sentence in list_sentences:\n",
        "        list_sentence_len.append(len(sentence))\n",
        "    return max(list_sentence_len)\n",
        "\n",
        "max_len=sentence_max_len(list_sentences)\n",
        "max_len"
      ],
      "metadata": {
        "colab": {
          "base_uri": "https://localhost:8080/"
        },
        "id": "zynO-MwDjSqy",
        "outputId": "be2a7eab-9d81-4055-adfe-915fc522189c"
      },
      "execution_count": 14,
      "outputs": [
        {
          "output_type": "execute_result",
          "data": {
            "text/plain": [
              "257"
            ]
          },
          "metadata": {},
          "execution_count": 14
        }
      ]
    },
    {
      "cell_type": "code",
      "source": [
        "sentences_padded_sequences=pad_sequences(sentence_sequences, maxlen=max_len, padding='post')\n",
        "sentences_padded_sequences.shape"
      ],
      "metadata": {
        "colab": {
          "base_uri": "https://localhost:8080/"
        },
        "id": "jIFOtCPYjUNc",
        "outputId": "7aa17dc2-7bc8-44ad-cdd9-85f62fce47c2"
      },
      "execution_count": 15,
      "outputs": [
        {
          "output_type": "execute_result",
          "data": {
            "text/plain": [
              "(998, 257)"
            ]
          },
          "metadata": {},
          "execution_count": 15
        }
      ]
    },
    {
      "cell_type": "markdown",
      "source": [
        "### 5.Process output tages per sentence"
      ],
      "metadata": {
        "id": "HGV3JtoYCLNZ"
      }
    },
    {
      "cell_type": "markdown",
      "source": [
        "- Label Encoding for pos"
      ],
      "metadata": {
        "id": "wIfcnXYDOt9d"
      }
    },
    {
      "cell_type": "code",
      "source": [
        "flatten_pos_list =list_pos\n",
        "# 1. get sorted unique pos keywords\n",
        "pos_keywords =sorted(set(flatten_pos_list))\n",
        "pos_keywords"
      ],
      "metadata": {
        "colab": {
          "base_uri": "https://localhost:8080/"
        },
        "id": "GNLsMtWJCpcw",
        "outputId": "bb18eb39-12fd-4fd8-eedb-a01284d7b348"
      },
      "execution_count": 16,
      "outputs": [
        {
          "output_type": "execute_result",
          "data": {
            "text/plain": [
              "['ADJ',\n",
              " 'ADP',\n",
              " 'ADV',\n",
              " 'AUX',\n",
              " 'CCONJ',\n",
              " 'DET',\n",
              " 'NOUN',\n",
              " 'NUM',\n",
              " 'PART',\n",
              " 'PRON',\n",
              " 'PROPN',\n",
              " 'PUNCT',\n",
              " 'SCONJ',\n",
              " 'SYM',\n",
              " 'VERB',\n",
              " 'X']"
            ]
          },
          "metadata": {},
          "execution_count": 16
        }
      ]
    },
    {
      "cell_type": "code",
      "source": [
        "# 2. get padding value index\n",
        "padding_value =pos_keywords.index('X')\n",
        "padding_value"
      ],
      "metadata": {
        "colab": {
          "base_uri": "https://localhost:8080/"
        },
        "id": "KBF-UiJNDzYb",
        "outputId": "9086f73f-94f2-40f1-bc87-469effbb21c4"
      },
      "execution_count": 17,
      "outputs": [
        {
          "output_type": "execute_result",
          "data": {
            "text/plain": [
              "15"
            ]
          },
          "metadata": {},
          "execution_count": 17
        }
      ]
    },
    {
      "cell_type": "code",
      "source": [
        "# 3. get shape of output matrix\n",
        "num_row ,num_cols =sentences_padded_sequences.shape[0],sentences_padded_sequences.shape[1]\n",
        "num_row,num_cols"
      ],
      "metadata": {
        "colab": {
          "base_uri": "https://localhost:8080/"
        },
        "id": "VEgSEeoCEzmk",
        "outputId": "531f81f3-4f95-43a1-dfe2-7221affd23e8"
      },
      "execution_count": 18,
      "outputs": [
        {
          "output_type": "execute_result",
          "data": {
            "text/plain": [
              "(998, 257)"
            ]
          },
          "metadata": {},
          "execution_count": 18
        }
      ]
    },
    {
      "cell_type": "code",
      "source": [
        "# 4. create intial matrix for ouput target\n",
        "\n",
        "y =np.full((num_row,num_cols),padding_value,dtype=int)\n",
        "y[0:1]"
      ],
      "metadata": {
        "colab": {
          "base_uri": "https://localhost:8080/"
        },
        "id": "uZ2G6vO1Hbc3",
        "outputId": "2e2fa58a-8970-4017-b307-316eef92370a"
      },
      "execution_count": 19,
      "outputs": [
        {
          "output_type": "execute_result",
          "data": {
            "text/plain": [
              "array([[15, 15, 15, 15, 15, 15, 15, 15, 15, 15, 15, 15, 15, 15, 15, 15,\n",
              "        15, 15, 15, 15, 15, 15, 15, 15, 15, 15, 15, 15, 15, 15, 15, 15,\n",
              "        15, 15, 15, 15, 15, 15, 15, 15, 15, 15, 15, 15, 15, 15, 15, 15,\n",
              "        15, 15, 15, 15, 15, 15, 15, 15, 15, 15, 15, 15, 15, 15, 15, 15,\n",
              "        15, 15, 15, 15, 15, 15, 15, 15, 15, 15, 15, 15, 15, 15, 15, 15,\n",
              "        15, 15, 15, 15, 15, 15, 15, 15, 15, 15, 15, 15, 15, 15, 15, 15,\n",
              "        15, 15, 15, 15, 15, 15, 15, 15, 15, 15, 15, 15, 15, 15, 15, 15,\n",
              "        15, 15, 15, 15, 15, 15, 15, 15, 15, 15, 15, 15, 15, 15, 15, 15,\n",
              "        15, 15, 15, 15, 15, 15, 15, 15, 15, 15, 15, 15, 15, 15, 15, 15,\n",
              "        15, 15, 15, 15, 15, 15, 15, 15, 15, 15, 15, 15, 15, 15, 15, 15,\n",
              "        15, 15, 15, 15, 15, 15, 15, 15, 15, 15, 15, 15, 15, 15, 15, 15,\n",
              "        15, 15, 15, 15, 15, 15, 15, 15, 15, 15, 15, 15, 15, 15, 15, 15,\n",
              "        15, 15, 15, 15, 15, 15, 15, 15, 15, 15, 15, 15, 15, 15, 15, 15,\n",
              "        15, 15, 15, 15, 15, 15, 15, 15, 15, 15, 15, 15, 15, 15, 15, 15,\n",
              "        15, 15, 15, 15, 15, 15, 15, 15, 15, 15, 15, 15, 15, 15, 15, 15,\n",
              "        15, 15, 15, 15, 15, 15, 15, 15, 15, 15, 15, 15, 15, 15, 15, 15,\n",
              "        15]])"
            ]
          },
          "metadata": {},
          "execution_count": 19
        }
      ]
    },
    {
      "cell_type": "code",
      "source": [
        "# 5. Fill output matrx with  POS labels index\n",
        "for i in range(num_row):\n",
        "    # Iterate only through the actual number of tokens in the sentence\n",
        "    for j in range(len(pos[i])):\n",
        "        y[i][j]=pos_keywords.index(pos[i][j])\n",
        "\n",
        "\n",
        "y[0:1]"
      ],
      "metadata": {
        "colab": {
          "base_uri": "https://localhost:8080/"
        },
        "id": "UuEZxoKFIGGu",
        "outputId": "bf48839f-5348-4028-cce5-803c93806599"
      },
      "execution_count": 20,
      "outputs": [
        {
          "output_type": "execute_result",
          "data": {
            "text/plain": [
              "array([[14, 10, 10, 11,  6,  0,  1, 10,  1,  6, 14,  9,  2, 10, 11, 11,\n",
              "         1,  6,  1,  6,  6,  0,  8,  0,  1, 10,  0, 11,  8,  8,  6,  0,\n",
              "         1,  6, 14,  1,  9,  1, 14, 11, 11, 15, 15, 15, 15, 15, 15, 15,\n",
              "        15, 15, 15, 15, 15, 15, 15, 15, 15, 15, 15, 15, 15, 15, 15, 15,\n",
              "        15, 15, 15, 15, 15, 15, 15, 15, 15, 15, 15, 15, 15, 15, 15, 15,\n",
              "        15, 15, 15, 15, 15, 15, 15, 15, 15, 15, 15, 15, 15, 15, 15, 15,\n",
              "        15, 15, 15, 15, 15, 15, 15, 15, 15, 15, 15, 15, 15, 15, 15, 15,\n",
              "        15, 15, 15, 15, 15, 15, 15, 15, 15, 15, 15, 15, 15, 15, 15, 15,\n",
              "        15, 15, 15, 15, 15, 15, 15, 15, 15, 15, 15, 15, 15, 15, 15, 15,\n",
              "        15, 15, 15, 15, 15, 15, 15, 15, 15, 15, 15, 15, 15, 15, 15, 15,\n",
              "        15, 15, 15, 15, 15, 15, 15, 15, 15, 15, 15, 15, 15, 15, 15, 15,\n",
              "        15, 15, 15, 15, 15, 15, 15, 15, 15, 15, 15, 15, 15, 15, 15, 15,\n",
              "        15, 15, 15, 15, 15, 15, 15, 15, 15, 15, 15, 15, 15, 15, 15, 15,\n",
              "        15, 15, 15, 15, 15, 15, 15, 15, 15, 15, 15, 15, 15, 15, 15, 15,\n",
              "        15, 15, 15, 15, 15, 15, 15, 15, 15, 15, 15, 15, 15, 15, 15, 15,\n",
              "        15, 15, 15, 15, 15, 15, 15, 15, 15, 15, 15, 15, 15, 15, 15, 15,\n",
              "        15]])"
            ]
          },
          "metadata": {},
          "execution_count": 20
        }
      ]
    },
    {
      "cell_type": "markdown",
      "source": [
        "- OneHotEncoding for pos indexs"
      ],
      "metadata": {
        "id": "Ehe4tl_LO4kX"
      }
    },
    {
      "cell_type": "code",
      "source": [
        "num_row =y.shape[0] # number of sentences\n",
        "num_cols =y.shape[1]  # max len of sentences\n",
        "num_row,num_cols\n",
        "\n",
        "new_y =np.full((num_row,num_cols,len(pos_keywords)),0,dtype=int)\n",
        "new_y.shape"
      ],
      "metadata": {
        "colab": {
          "base_uri": "https://localhost:8080/"
        },
        "id": "dcaNXpYLKUq9",
        "outputId": "2058a730-e1f0-4087-8085-35a729f207c3"
      },
      "execution_count": 21,
      "outputs": [
        {
          "output_type": "execute_result",
          "data": {
            "text/plain": [
              "(998, 257, 16)"
            ]
          },
          "metadata": {},
          "execution_count": 21
        }
      ]
    },
    {
      "cell_type": "code",
      "source": [
        "for i in range(num_row):\n",
        "    for j in range(num_cols):\n",
        "        new_y[i][j][y[i][j]]=1\n",
        "\n",
        "new_y[0:1]"
      ],
      "metadata": {
        "colab": {
          "base_uri": "https://localhost:8080/"
        },
        "id": "ztHU1KMcQKhc",
        "outputId": "c949e65f-dc01-4ccc-e070-d3df787434fb"
      },
      "execution_count": 22,
      "outputs": [
        {
          "output_type": "execute_result",
          "data": {
            "text/plain": [
              "array([[[0, 0, 0, ..., 0, 1, 0],\n",
              "        [0, 0, 0, ..., 0, 0, 0],\n",
              "        [0, 0, 0, ..., 0, 0, 0],\n",
              "        ...,\n",
              "        [0, 0, 0, ..., 0, 0, 1],\n",
              "        [0, 0, 0, ..., 0, 0, 1],\n",
              "        [0, 0, 0, ..., 0, 0, 1]]])"
            ]
          },
          "metadata": {},
          "execution_count": 22
        }
      ]
    },
    {
      "cell_type": "markdown",
      "source": [
        "### 6.Split data into Train & Test"
      ],
      "metadata": {
        "id": "kTBlQQywQxQE"
      }
    },
    {
      "cell_type": "code",
      "source": [
        "train_x, test_x, train_y, test_y = train_test_split(\n",
        "                                              sentences_padded_sequences, new_y,\n",
        "                                              test_size=0.3,\n",
        "                                              random_state=42,\n",
        "                                              shuffle=True\n",
        "                                          )\n"
      ],
      "metadata": {
        "id": "5cJ9CsHMQrId"
      },
      "execution_count": 23,
      "outputs": []
    },
    {
      "cell_type": "code",
      "source": [
        "train_x.shape,test_x.shape,train_y.shape,test_y.shape"
      ],
      "metadata": {
        "colab": {
          "base_uri": "https://localhost:8080/"
        },
        "id": "8xFkFrVCTW3t",
        "outputId": "9440e935-cb82-4aef-e1a4-fbb80423260a"
      },
      "execution_count": 24,
      "outputs": [
        {
          "output_type": "execute_result",
          "data": {
            "text/plain": [
              "((698, 257), (300, 257), (698, 257, 16), (300, 257, 16))"
            ]
          },
          "metadata": {},
          "execution_count": 24
        }
      ]
    },
    {
      "cell_type": "markdown",
      "source": [
        "## Models"
      ],
      "metadata": {
        "id": "coMMOVW2TG0E"
      }
    },
    {
      "cell_type": "markdown",
      "source": [
        "####  Step1: Word Embedding\n",
        "Word embeddings provide a <u>dense</u> representation of words and their relative meanings. <br>\n",
        "**Embedding technique**  Word2Vec - skipgram  "
      ],
      "metadata": {
        "id": "e8cgV-vvil4m"
      }
    },
    {
      "cell_type": "code",
      "source": [
        "!wget https://bakrianoo.ewr1.vultrobjects.com/aravec/full_grams_cbow_300_twitter.zip\n",
        "!unzip full_grams_cbow_300_twitter.zip"
      ],
      "metadata": {
        "colab": {
          "base_uri": "https://localhost:8080/"
        },
        "id": "ou7X5ZfV-DY3",
        "outputId": "c7d922f8-ee8a-4969-f7cc-2dae62db3bcb"
      },
      "execution_count": 1,
      "outputs": [
        {
          "output_type": "stream",
          "name": "stdout",
          "text": [
            "--2025-09-02 11:24:14--  https://bakrianoo.ewr1.vultrobjects.com/aravec/full_grams_cbow_300_twitter.zip\n",
            "Resolving bakrianoo.ewr1.vultrobjects.com (bakrianoo.ewr1.vultrobjects.com)... 108.61.0.122, 2001:19f0:0:22::100\n",
            "Connecting to bakrianoo.ewr1.vultrobjects.com (bakrianoo.ewr1.vultrobjects.com)|108.61.0.122|:443... connected.\n",
            "HTTP request sent, awaiting response... 200 OK\n",
            "Length: 3325529808 (3.1G) [application/zip]\n",
            "Saving to: ‘full_grams_cbow_300_twitter.zip’\n",
            "\n",
            "full_grams_cbow_300 100%[===================>]   3.10G  44.4MB/s    in 1m 47s  \n",
            "\n",
            "2025-09-02 11:26:01 (29.8 MB/s) - ‘full_grams_cbow_300_twitter.zip’ saved [3325529808/3325529808]\n",
            "\n",
            "Archive:  full_grams_cbow_300_twitter.zip\n",
            "  inflating: full_grams_cbow_300_twitter.mdl  \n",
            "  inflating: full_grams_cbow_300_twitter.mdl.trainables.syn1neg.npy  \n",
            "  inflating: full_grams_cbow_300_twitter.mdl.wv.vectors.npy  \n"
          ]
        }
      ]
    },
    {
      "cell_type": "code",
      "source": [
        "embedding_model = gensim.models.Word2Vec.load('/content/full_grams_cbow_300_twitter.mdl')"
      ],
      "metadata": {
        "id": "pW1oVCePTUL7"
      },
      "execution_count": 25,
      "outputs": []
    },
    {
      "cell_type": "code",
      "source": [
        "#list of words in the dictionary\n",
        "embedding_model.wv.index_to_key"
      ],
      "metadata": {
        "colab": {
          "base_uri": "https://localhost:8080/"
        },
        "id": "RUFkEZwhzuH2",
        "outputId": "f9323033-8a75-4439-8c65-669768e410a0"
      },
      "execution_count": 26,
      "outputs": [
        {
          "output_type": "execute_result",
          "data": {
            "text/plain": [
              "['.',\n",
              " '%',\n",
              " ':',\n",
              " 'من',\n",
              " '#',\n",
              " 'رابطويب',\n",
              " 'في',\n",
              " 'الله',\n",
              " ')',\n",
              " '(',\n",
              " 'و',\n",
              " 'علي',\n",
              " '!',\n",
              " 'لا',\n",
              " 'ان',\n",
              " 'ما',\n",
              " ']',\n",
              " '؟',\n",
              " 'اللهم',\n",
              " 'الا',\n",
              " 'كل',\n",
              " 'انا',\n",
              " 'يا',\n",
              " ',',\n",
              " 'اللي',\n",
              " 'ولا',\n",
              " 'الي',\n",
              " 'لا_اله',\n",
              " 'ي',\n",
              " 'عن',\n",
              " '…',\n",
              " 'هو',\n",
              " 'بس',\n",
              " 'انت',\n",
              " 'ب',\n",
              " 'لي',\n",
              " 'مع',\n",
              " 'م',\n",
              " 'ل',\n",
              " 'هذا',\n",
              " 'اللهم_اني',\n",
              " 'لو',\n",
              " 'ف',\n",
              " 'هه',\n",
              " 'كان',\n",
              " 'لك',\n",
              " 'اذا',\n",
              " 'الله_اكبر',\n",
              " 'او',\n",
              " '”',\n",
              " 'بعد',\n",
              " 'والله',\n",
              " 'ه',\n",
              " 'ع',\n",
              " 'الا_الله',\n",
              " 'الناس',\n",
              " 'ا',\n",
              " 'سبحان',\n",
              " 'حتي',\n",
              " 'فيه',\n",
              " 'له',\n",
              " 'ال',\n",
              " 'يوم',\n",
              " 'اي',\n",
              " '*',\n",
              " 'قلبي',\n",
              " 'الذي',\n",
              " 'ك',\n",
              " 'اني',\n",
              " 'شي',\n",
              " 'انك',\n",
              " '?',\n",
              " 'قال',\n",
              " 'احد',\n",
              " 'وانا',\n",
              " 'انه',\n",
              " 'هي',\n",
              " 'قبل',\n",
              " 'يارب',\n",
              " 'استغفر',\n",
              " 'اليوم',\n",
              " 'الحمدلله',\n",
              " 'مش',\n",
              " 'ت',\n",
              " ';',\n",
              " '“',\n",
              " 'ربي',\n",
              " 'يعني',\n",
              " 'غير',\n",
              " 'لما',\n",
              " 'شاهد',\n",
              " 'وكل',\n",
              " 'خير',\n",
              " 'عليه',\n",
              " 'الدنيا',\n",
              " 'ن',\n",
              " 'رب',\n",
              " '♡',\n",
              " '=',\n",
              " 'غرد_بذكر',\n",
              " 'عشان',\n",
              " 'فيها',\n",
              " 'واحد',\n",
              " 'لم',\n",
              " 'شيء',\n",
              " 'بك',\n",
              " 'عليك',\n",
              " 'العظيم',\n",
              " 'الحياه',\n",
              " 'كنت',\n",
              " 'وما',\n",
              " 'بين',\n",
              " 'وان',\n",
              " 'اليك',\n",
              " 'لكن',\n",
              " 'ﷺ',\n",
              " 'مو',\n",
              " 'ومن',\n",
              " 'اعوذ_بك',\n",
              " 'ايه',\n",
              " 'حسبي',\n",
              " 'لنا',\n",
              " 'به',\n",
              " 'شخص',\n",
              " 'يكون',\n",
              " '&',\n",
              " 'وانت',\n",
              " 'كيف',\n",
              " 'وحده',\n",
              " 'ده',\n",
              " '~',\n",
              " 'صوره',\n",
              " 'مثل',\n",
              " 'تويتر',\n",
              " 'قد',\n",
              " 'الحب',\n",
              " 'وش',\n",
              " 'هل',\n",
              " 'اول',\n",
              " '[الاعراف',\n",
              " 'مصر',\n",
              " 'عند',\n",
              " 'بعض',\n",
              " 'دلع_بنات',\n",
              " '=…',\n",
              " 'ام',\n",
              " 'يقول',\n",
              " 'التي',\n",
              " 'دي',\n",
              " 'رب_العرش_العظيم',\n",
              " 'عليه_توكلت_وهو',\n",
              " 'لهم',\n",
              " 'منك',\n",
              " 'انتي',\n",
              " 'الان',\n",
              " 'الجنه',\n",
              " 'جدا',\n",
              " 'هذه',\n",
              " 'وهو',\n",
              " 'اكثر',\n",
              " 'فقط',\n",
              " 'نفسي',\n",
              " 'ليس',\n",
              " 'اجمل',\n",
              " 'لها',\n",
              " 'الارض',\n",
              " 'تكون',\n",
              " 'س',\n",
              " '[الحج',\n",
              " 'هم',\n",
              " 'احب',\n",
              " 'صلي',\n",
              " 'الحمد_لله',\n",
              " 'كل_شيء',\n",
              " 'ولكن',\n",
              " 'محمد',\n",
              " 'اخر',\n",
              " 'قل',\n",
              " 'مره',\n",
              " '[',\n",
              " 'بالله',\n",
              " 'ثم',\n",
              " 'كانت',\n",
              " 'حاجه',\n",
              " 'ليه',\n",
              " 'ناس',\n",
              " 'السعوديه',\n",
              " 'عندما',\n",
              " 'عليه_وسلم',\n",
              " 'احبك',\n",
              " ';&',\n",
              " 'بها',\n",
              " 'انت_سبحانك',\n",
              " 'كنز_المسلم',\n",
              " 'اني_كنت',\n",
              " 'اللهم_صل',\n",
              " 'اغفر_لي',\n",
              " 'النار',\n",
              " 'الليل',\n",
              " 'الظالمين',\n",
              " '—',\n",
              " 'قلب',\n",
              " 'راح',\n",
              " 'طيب',\n",
              " 'حب',\n",
              " 'عندي',\n",
              " 'حد',\n",
              " 'اذكار_الاذان',\n",
              " 'لان',\n",
              " 'سبحانك',\n",
              " 'كده',\n",
              " 'ر',\n",
              " 'تعلمون',\n",
              " 'ربنا',\n",
              " 'هناك',\n",
              " 'ق',\n",
              " 'تطبيق_قراني',\n",
              " 'لن',\n",
              " 'شر',\n",
              " 'العالم',\n",
              " 'ح',\n",
              " 'قال_رسول',\n",
              " 'فيك',\n",
              " 'ممكن',\n",
              " 'كم',\n",
              " 'نفسك',\n",
              " 'ابلغكم_رسالات_ربي',\n",
              " 'وانصح_لكم_واعلم',\n",
              " 'اسالك',\n",
              " 'منه',\n",
              " 'تري',\n",
              " 'دون',\n",
              " 'ابي',\n",
              " 'القلب',\n",
              " 'الله_لعفو_غفور',\n",
              " 'ذلك_ومن_عاقب',\n",
              " 'بمثل_ما_عوقب',\n",
              " 'به_ثم_بغي',\n",
              " 'عليه_لينصرنه',\n",
              " 'اقول',\n",
              " 'د',\n",
              " 'عمران',\n",
              " 'بل',\n",
              " 'لازم',\n",
              " '[ال',\n",
              " 'قلت',\n",
              " 'رمضان',\n",
              " 'جديد',\n",
              " 'عليها',\n",
              " '😂😂',\n",
              " 'انها',\n",
              " 'قلبك',\n",
              " 'ليش',\n",
              " 'وسلم',\n",
              " 'مني',\n",
              " 'تقول',\n",
              " 'زي',\n",
              " 'اغفر_لنا',\n",
              " 'بسم_الله',\n",
              " 'اكثر_من',\n",
              " 'ذلك',\n",
              " 'يمكن',\n",
              " 'امي',\n",
              " 'افضل',\n",
              " 'يومك',\n",
              " 'دعاء_لربي',\n",
              " ':_بسم_الله',\n",
              " 'ولله_الحمد',\n",
              " 'نفس',\n",
              " 'سنه',\n",
              " 'احسن',\n",
              " 'دعاء',\n",
              " 'وانت_راض_عنها',\n",
              " 'لله',\n",
              " 'حين',\n",
              " 'الامور_كلها',\n",
              " 'ابدا',\n",
              " '[المؤمنون',\n",
              " 'فيديو',\n",
              " 'طالعه',\n",
              " 'كلمه',\n",
              " 'شريك_له',\n",
              " 'واعوذ_بك',\n",
              " 'جميل',\n",
              " 'حق',\n",
              " 'واتوب_اليه',\n",
              " 'الكلام',\n",
              " 'هنا',\n",
              " 'الحين',\n",
              " 'وين',\n",
              " 'يرضيك_عنا',\n",
              " 'اما',\n",
              " '[الانسان',\n",
              " 'جمعه_مضت',\n",
              " 'بينهما_ويسر_لنا',\n",
              " 'وجمعه_اتت',\n",
              " 'دلع',\n",
              " 'استغفرك_واتوب',\n",
              " 'الطياره',\n",
              " 'يديه',\n",
              " 'صار',\n",
              " 'بقي',\n",
              " 'وهو_الذي',\n",
              " 'ولا_تقبض_روحي',\n",
              " 'اللهم_احسن_عاقبتي',\n",
              " 'الظنون',\n",
              " 'بحمدك_اشهد',\n",
              " 'وما_اخطات',\n",
              " 'النوم',\n",
              " 'وفي',\n",
              " 'نزله',\n",
              " 'علينا',\n",
              " 'دائما',\n",
              " 'بي',\n",
              " 'اسررت_وما_اعلنت',\n",
              " 'عملت_وما_جهلت',\n",
              " 'تطبيقات_سبق',\n",
              " 'قبل_خروجك',\n",
              " 'اجعلها_اخر_تغريده',\n",
              " 'الذكر_عند',\n",
              " 'كلام',\n",
              " 'لكم',\n",
              " 'تاركا_للناس_اثم',\n",
              " 'الضربه_الجويه',\n",
              " 'عند_الاشارات',\n",
              " 'هتسقط',\n",
              " 'يحب_زوجته',\n",
              " 'يتزوج_حبيبته',\n",
              " 'ميتين_ابوهم',\n",
              " 'الامر_بين',\n",
              " 'والمحال_التجاريه',\n",
              " 'المتسولون',\n",
              " 'العلاقات_دي',\n",
              " 'ازدياد_مستمر',\n",
              " 'ويسمع_وجعي',\n",
              " 'عش_بعفويتك',\n",
              " 'علاقات_مش',\n",
              " 'ولاهو_راضي',\n",
              " 'لاهو_راضي',\n",
              " 'الكويتي_😂',\n",
              " 'ومايخونها',\n",
              " 'يري_نيتي',\n",
              " 'متقحموش_نفسكوا',\n",
              " 'ادها_لان',\n",
              " 'انتوا_ببساطه',\n",
              " 'هتنشغلوا',\n",
              " 'العشمانين_هيطلع',\n",
              " 'النوايا_مطلع',\n",
              " 'الشرقيه_♪',\n",
              " 'هتعمل_غاره',\n",
              " 'بنات🎵🎵😂',\n",
              " 'كله',\n",
              " 'احنا',\n",
              " 'شكرا',\n",
              " 'الهلال',\n",
              " 'خلاص',\n",
              " 'هذي',\n",
              " 'اكبر',\n",
              " 'برنامج',\n",
              " 'ولو',\n",
              " 'عنه',\n",
              " 'كذا',\n",
              " 'رسول',\n",
              " 'وقت',\n",
              " 'بدون',\n",
              " 'معك',\n",
              " 'له_الملك_وله',\n",
              " 'الوقت',\n",
              " 'انهم',\n",
              " 'منها',\n",
              " 'عادي',\n",
              " 'كثيرا',\n",
              " 'كلها',\n",
              " 'كثر',\n",
              " 'السلام_عليكم',\n",
              " 'اجل',\n",
              " 'كما',\n",
              " 'صور',\n",
              " 'متي',\n",
              " 'اجعل',\n",
              " 'نفسه',\n",
              " 'عني',\n",
              " 'فيني',\n",
              " 'حياتي',\n",
              " 'الذين',\n",
              " 'اه',\n",
              " 'عاد',\n",
              " 'يدعو_لنفسه_بين',\n",
              " 'الاذان_والاقامه_فان',\n",
              " 'اشهد',\n",
              " 'لك_الحمد',\n",
              " 'حول_ولا_قوه',\n",
              " 'بان',\n",
              " 'ربي_اسعد',\n",
              " 'الف',\n",
              " 'فلا',\n",
              " 'لمن',\n",
              " 'اسالك_علما_نافعا',\n",
              " 'مين',\n",
              " '[الرعد',\n",
              " 'الدعاء',\n",
              " 'رحمه',\n",
              " 'لكل',\n",
              " 'تركيا',\n",
              " 'اعلم',\n",
              " 'والله_اكبر',\n",
              " 'عيني',\n",
              " 'صح',\n",
              " 'سوريا',\n",
              " 'اعرف',\n",
              " 'احلي',\n",
              " 'بعيد',\n",
              " 'بلا',\n",
              " 'ابو',\n",
              " 'بكره',\n",
              " '😂',\n",
              " 'العمر',\n",
              " 'الكويت',\n",
              " 'منهم',\n",
              " 'عين',\n",
              " 'عليهم',\n",
              " 'عندك',\n",
              " 'يبقي',\n",
              " 'بكل',\n",
              " 'تحب',\n",
              " 'احس',\n",
              " 'دا',\n",
              " 'انسان',\n",
              " 'الخير',\n",
              " 'اهل',\n",
              " 'وبحمده_سبحان',\n",
              " 'غيرك',\n",
              " '[الجن',\n",
              " '+',\n",
              " 'الانسان',\n",
              " 'فان',\n",
              " 'حي_يا_قيوم',\n",
              " 'امين',\n",
              " 'حبيبي',\n",
              " 'ترا',\n",
              " 'خخ',\n",
              " 'كثير',\n",
              " 'اللهم_ارزقني',\n",
              " 'تعرف',\n",
              " 'ش',\n",
              " 'عاجل',\n",
              " 'تعالي',\n",
              " 'النصر',\n",
              " 'جميع',\n",
              " 'اتمني',\n",
              " 'نحن',\n",
              " 'اصلا',\n",
              " 'ج',\n",
              " 'عنك',\n",
              " '$',\n",
              " 'فوق',\n",
              " 'حلوه',\n",
              " 'قلوبنا',\n",
              " 'وبحمده_عدد_خلقه',\n",
              " 'اله_الا',\n",
              " 'ايام',\n",
              " 'ذا',\n",
              " 'بما',\n",
              " 'بخير',\n",
              " 'اب',\n",
              " 'حلو',\n",
              " 'يالله',\n",
              " '[مريم',\n",
              " '[الكهف',\n",
              " 'الحمد_وهو',\n",
              " 'بنت',\n",
              " 'حبك',\n",
              " 'يعلم',\n",
              " 'هذا_اليوم',\n",
              " 'كتاب',\n",
              " 'السعاده',\n",
              " 'تصبحون',\n",
              " '[فصلت',\n",
              " 'الخروج_من_المنزل',\n",
              " 'عمري',\n",
              " 'ورزقا_طيبا_وعملا',\n",
              " 'هو_الحي_القيوم',\n",
              " 'معي',\n",
              " 'كن',\n",
              " 'م_ن',\n",
              " 'ان_شاء',\n",
              " 'واذا',\n",
              " 'مكان',\n",
              " 'سبحانك_اللهم_وبحمدك',\n",
              " 'رجل',\n",
              " 'نبينا_محمد',\n",
              " 'ادري',\n",
              " '}',\n",
              " 'اشوف',\n",
              " 'يوما',\n",
              " 'الرياض',\n",
              " 'شوي',\n",
              " 'ساعه',\n",
              " 'الاهلي',\n",
              " 'فعلا',\n",
              " 'ودي',\n",
              " 'وهي',\n",
              " 'الايام',\n",
              " 'الصلاه',\n",
              " 'شاء_الله',\n",
              " 'الاخره',\n",
              " 'ضد',\n",
              " 'الموت',\n",
              " 'الوتر',\n",
              " '[التغابن',\n",
              " 'اكيد',\n",
              " 'العظيم_واتوب_اليه',\n",
              " 'الاول',\n",
              " 'لانه',\n",
              " 'رغم',\n",
              " 'توكلت',\n",
              " 'طول',\n",
              " '{',\n",
              " 'امام',\n",
              " 'احيانا',\n",
              " 'تبقي',\n",
              " 'كل_شئ_قدير',\n",
              " 'كبير',\n",
              " '[الزخرف',\n",
              " 'عمر',\n",
              " 'لي_شاني_كله',\n",
              " 'وبحمده',\n",
              " 'جميله',\n",
              " 'اكون',\n",
              " 'كان_اخر_كلامه',\n",
              " 'حياتك',\n",
              " 'شفت',\n",
              " 'روح',\n",
              " 'الشعب',\n",
              " 'حال',\n",
              " 'اسالك_خير',\n",
              " 'ص',\n",
              " 'جديده',\n",
              " 'رب_اغفر_لي',\n",
              " 'صوت',\n",
              " 'المسلمين',\n",
              " 'ورضا_نفسه_وزنه',\n",
              " 'ما_جعلته_سهلا',\n",
              " 'رتويت',\n",
              " 'الحزن',\n",
              " 'ذكر',\n",
              " 'سهل_الا',\n",
              " 'عدد',\n",
              " 'قول',\n",
              " 'طرفه_عين',\n",
              " 'بسبب',\n",
              " 'علشان',\n",
              " 'بين_السجدتين',\n",
              " 'السماء',\n",
              " 'احمد',\n",
              " 'دعاء_الجلسه',\n",
              " 'والا',\n",
              " 'باقي',\n",
              " 'كريم',\n",
              " 'الشباب',\n",
              " 'باذن',\n",
              " 'ليله',\n",
              " 'لحظه',\n",
              " '❤️',\n",
              " 'لاني',\n",
              " 'عليكم',\n",
              " 'مهما',\n",
              " 'ماهو',\n",
              " 'حي',\n",
              " 'والحمد_لله',\n",
              " 'السلام',\n",
              " 'خلال',\n",
              " 'فكره',\n",
              " '[الاسراء',\n",
              " '\\u200f',\n",
              " 'حياه',\n",
              " 'سوره',\n",
              " 'اللهم_منزل_الكتاب',\n",
              " 'غدا',\n",
              " 'روحي',\n",
              " 'السماوات_والارض_طوعا',\n",
              " 'سريع_الحساب_اهزم',\n",
              " 'عيوني',\n",
              " 'مافي',\n",
              " '♥',\n",
              " 'البشر',\n",
              " 'تم',\n",
              " 'والاصال',\n",
              " 'وكرها_وظلالهم_بالغدو',\n",
              " 'ولله_يسجد_من',\n",
              " '[القلم',\n",
              " 'الرجال',\n",
              " 'حول',\n",
              " 'صحيح_البخاري',\n",
              " 'الشخص',\n",
              " 'دعاء_السجود',\n",
              " 'الم',\n",
              " 'برحمتك_استغيث_اصلح',\n",
              " 'سوي',\n",
              " 'اليه',\n",
              " 'الدنيا_والاخره',\n",
              " 'المراه',\n",
              " 'اسال',\n",
              " 'العرب',\n",
              " 'شعور',\n",
              " 'الشوق',\n",
              " 'شيء_قدير',\n",
              " 'اكتب',\n",
              " 'قيام_الليل',\n",
              " '#_نشر_سيرته',\n",
              " 'استغفرالله',\n",
              " 'الرجل',\n",
              " 'عنا',\n",
              " '•',\n",
              " 'زمان',\n",
              " 'عام',\n",
              " '[الفجر',\n",
              " 'شيئا',\n",
              " 'القران',\n",
              " 'وجه',\n",
              " 'عرشه_ومداد_كلماته',\n",
              " 'لين',\n",
              " 'كمان',\n",
              " 'عنده',\n",
              " 'بن',\n",
              " 'واحده',\n",
              " 'الجميع',\n",
              " 'الل_ه',\n",
              " 'مغرد_بذكر',\n",
              " 'اللهم_اجعلنا',\n",
              " 'معاك',\n",
              " 'ۈ',\n",
              " 'يقولون',\n",
              " 'انام',\n",
              " 'نعم',\n",
              " 'ايش',\n",
              " 'حقيقه',\n",
              " 'اليمن',\n",
              " 'منا',\n",
              " 'تحت',\n",
              " 'وعلي',\n",
              " 'وانت_تجعل_الحزن',\n",
              " 'طريق',\n",
              " 'يرد',\n",
              " 'يعرف',\n",
              " 'ايران',\n",
              " 'وبركاته',\n",
              " 'الاتحاد',\n",
              " 'عنهم',\n",
              " 'الله_الذي',\n",
              " 'وهم',\n",
              " 'خلق_السماوات_والارض',\n",
              " 'اسم',\n",
              " 'واللي',\n",
              " 'علم',\n",
              " 'اعوذ_بكلمات',\n",
              " '[طه',\n",
              " 'زين',\n",
              " 'عندنا',\n",
              " 'المنتدي',\n",
              " 'الواحد',\n",
              " 'الدين',\n",
              " 'صحيح',\n",
              " 'اخبار',\n",
              " '^',\n",
              " 'لماذا',\n",
              " 'مدري',\n",
              " 'المشكله',\n",
              " 'ريتويت',\n",
              " 'الحق',\n",
              " 'شويه',\n",
              " 'معه',\n",
              " 'مشكله',\n",
              " 'وكان',\n",
              " 'طبعا',\n",
              " 'الساعه',\n",
              " 'يجي',\n",
              " 'وليس',\n",
              " 'رياض_الصالحين',\n",
              " 'فقد',\n",
              " 'جده',\n",
              " 'ورحمه_الله',\n",
              " 'سواك',\n",
              " 'طب',\n",
              " 'البحرين',\n",
              " '[الملك',\n",
              " 'شنو',\n",
              " 'دخل_الجنه',\n",
              " 'البيت',\n",
              " 'اريد',\n",
              " 'المسجد',\n",
              " 'مبارك',\n",
              " '**',\n",
              " 'القلوب',\n",
              " 'جد',\n",
              " 'غ',\n",
              " 'اشياء',\n",
              " 'اللهم_اني_اعوذ',\n",
              " 'داخل',\n",
              " 'الكل',\n",
              " '💔',\n",
              " 'حيث',\n",
              " 'قالت',\n",
              " 'الرحمن',\n",
              " 'نور',\n",
              " 'بنات',\n",
              " '[البقره',\n",
              " 'العليم',\n",
              " 'بالحق_وصوركم_فاحسن',\n",
              " 'صوركم_واليه_المصير',\n",
              " 'يجب',\n",
              " 'امر',\n",
              " 'ۆ',\n",
              " 'كنا',\n",
              " 'دعاء_دخول',\n",
              " 'اكتر',\n",
              " 'تاني',\n",
              " 'يحب',\n",
              " 'ہ',\n",
              " 'البنات',\n",
              " 'رب_هذه_الدعوه',\n",
              " 'ﻻ',\n",
              " 'عبر',\n",
              " 'عيونك',\n",
              " '♡♡',\n",
              " 'يحب_الظالمين',\n",
              " 'ياخي',\n",
              " 'الصوره',\n",
              " 'واما_الذين_امنوا',\n",
              " 'وعملوا_الصالحات_فيوفيهم',\n",
              " 'اجورهم_والله',\n",
              " 'سؤال',\n",
              " 'ابن',\n",
              " 'حساب',\n",
              " 'يضر_مع_اسمه',\n",
              " 'يصير',\n",
              " 'الشيخ',\n",
              " 'السماء_وهو_السميع',\n",
              " '@',\n",
              " 'فيهم',\n",
              " '‹',\n",
              " 'اعوذ',\n",
              " 'المساء',\n",
              " 'اذكار_الصباح',\n",
              " 'تبي',\n",
              " 'ممن',\n",
              " 'خيرا',\n",
              " 'الكثير',\n",
              " '[غافر',\n",
              " 'دايم',\n",
              " 'كلهم',\n",
              " 'استغفار',\n",
              " 'يلا',\n",
              " 'سبب',\n",
              " '[الحجر',\n",
              " '[الانبياء',\n",
              " 'مليون',\n",
              " 'وانتي',\n",
              " 'للاسف',\n",
              " 'بجد',\n",
              " 'العيد',\n",
              " '[النمل',\n",
              " 'تعلم',\n",
              " 'عمل',\n",
              " 'شباب',\n",
              " 'خ',\n",
              " 'اله',\n",
              " 'كل_عام',\n",
              " 'ولم',\n",
              " 'عذاب',\n",
              " 'رضي',\n",
              " 'عنها',\n",
              " 'طاعتك',\n",
              " 'ماذا',\n",
              " 'الاشياء',\n",
              " '[الانفال',\n",
              " 'قالوا',\n",
              " 'الموضوع',\n",
              " '[ابراهيم',\n",
              " 'محد',\n",
              " 'عبد',\n",
              " 'كلنا',\n",
              " 'الاسلام',\n",
              " 'ليست',\n",
              " 'التامه_والصلاه_القائم',\n",
              " 'اسمه',\n",
              " 'ون',\n",
              " 'جمال',\n",
              " 'باب',\n",
              " 'ثاني',\n",
              " 'لسه',\n",
              " 'صرت',\n",
              " 'رحمتك',\n",
              " 'رد',\n",
              " 'صوتك',\n",
              " 'اننا',\n",
              " 'يحبك',\n",
              " 'بعدين',\n",
              " 'مات',\n",
              " 'اين',\n",
              " 'اخاف',\n",
              " 'تدري',\n",
              " 'دام',\n",
              " 'غيره',\n",
              " '[نوح',\n",
              " 'الجديد',\n",
              " 'صباح',\n",
              " 'الدنيا_حسنه_وفي',\n",
              " 'التامات',\n",
              " 'كتير',\n",
              " 'وم',\n",
              " 'انت_استغفرك_واتوب',\n",
              " 'موقع',\n",
              " 'اذا_شئت_سهلا',\n",
              " 'البنت',\n",
              " 'الوطن',\n",
              " '»',\n",
              " 'ات',\n",
              " 'بيت',\n",
              " 'المهم',\n",
              " 'رساله',\n",
              " 'عسي',\n",
              " 'بعدها',\n",
              " 'العراق',\n",
              " 'العين',\n",
              " 'لااله_الا',\n",
              " 'الاخرين',\n",
              " 'صحيح_مسلم',\n",
              " 'ذي',\n",
              " 'الل',\n",
              " 'سبيل',\n",
              " 'انتم',\n",
              " 'خلق',\n",
              " 'شئ',\n",
              " 'قناه',\n",
              " 'وجعلوا_لله_اندادا',\n",
              " 'مصيركم_الي_النار',\n",
              " 'ليضلوا_عن_سبيله',\n",
              " 'قل_تمتعوا_فان',\n",
              " '♡̷̷',\n",
              " 'صدق',\n",
              " 'اغفر',\n",
              " 'امل',\n",
              " 'لاا',\n",
              " 'ض',\n",
              " 'ارحم',\n",
              " 'اوي',\n",
              " 'قريب',\n",
              " 'جعل',\n",
              " 'قصه',\n",
              " 'اري',\n",
              " 'فهو',\n",
              " 'اغنيه',\n",
              " 'مجرد',\n",
              " 'وهذا',\n",
              " 'الرحمن_الرحيم',\n",
              " '[الطور',\n",
              " 'الصمت',\n",
              " 'اللہ',\n",
              " 'اصبح',\n",
              " 'تكلني_الي_نفسي',\n",
              " 'الصبر',\n",
              " 'كانوا',\n",
              " 'امس',\n",
              " 'تنام',\n",
              " 'ها',\n",
              " 'اهم',\n",
              " 'دعوه',\n",
              " 'كي',\n",
              " 'لحد',\n",
              " 'شهر',\n",
              " 'كدا',\n",
              " 'اللهم_اهدني',\n",
              " 'العربيه',\n",
              " 'احساس',\n",
              " 'عبادك',\n",
              " 'كتب',\n",
              " 'معني',\n",
              " 'النساء',\n",
              " 'بعده',\n",
              " 'امريكا',\n",
              " 'صدري',\n",
              " 'قران',\n",
              " 'وسط',\n",
              " 'ليت',\n",
              " 'خل',\n",
              " 'اغفر_لي_وارحمني',\n",
              " 'قلبه',\n",
              " 'ط',\n",
              " 'حاله',\n",
              " 'ربهم',\n",
              " 'الصالحات_وهو_مؤمن',\n",
              " 'الاخوان',\n",
              " 'اسالك_الجنه_واعوذ',\n",
              " 'ومن_يعمل',\n",
              " 'اح',\n",
              " 'حبيبتي',\n",
              " 'يبي',\n",
              " 'عذاب_القبر',\n",
              " 'يشاء',\n",
              " 'فلا_يخاف_ظلما',\n",
              " '›',\n",
              " 'ربك',\n",
              " 'الحلقه',\n",
              " 'غيري',\n",
              " 'الزمن',\n",
              " 'حبيب',\n",
              " 'قام',\n",
              " 'الحنين',\n",
              " 'انت_السلام_ومنك',\n",
              " 'متقبلا',\n",
              " 'شو',\n",
              " 'ولا_هضما',\n",
              " 'السلام_تباركت_يا',\n",
              " 'ذا_الجلال_والاكرام',\n",
              " 'تلك',\n",
              " 'اقوي',\n",
              " 'عم',\n",
              " 'بالي',\n",
              " 'نعمه',\n",
              " 'مدينه',\n",
              " 'الروح',\n",
              " 'عبدالله',\n",
              " 'الملك',\n",
              " 'هما',\n",
              " 'الثوره',\n",
              " 'الامارات',\n",
              " 'الثاني',\n",
              " 'جيت',\n",
              " 'غيابك',\n",
              " 'رجال',\n",
              " '<',\n",
              " 'اس',\n",
              " 'طلع',\n",
              " 'صعب',\n",
              " 'احبه',\n",
              " 'مباراه',\n",
              " 'طريقه',\n",
              " 'قاعد',\n",
              " 'الحقيقه',\n",
              " 'حزن',\n",
              " 'حرام',\n",
              " 'غلط',\n",
              " 'بحلالك_عن_حرامك',\n",
              " 'بوح',\n",
              " 'سعاده',\n",
              " 'فين',\n",
              " 'رح',\n",
              " 'النبي',\n",
              " 'الله_ونعم_الوكيل',\n",
              " 'فينا',\n",
              " 'حلم',\n",
              " 'الجيش',\n",
              " 'يكتب',\n",
              " 'شر_ما_خلق',\n",
              " 'لوول',\n",
              " 'لبنان',\n",
              " 'رب_العالمين',\n",
              " 'شلون',\n",
              " 'فريق',\n",
              " 'ايضا',\n",
              " 'المفروض',\n",
              " 'حسن',\n",
              " 'داعش',\n",
              " 'مثلا',\n",
              " 'امه',\n",
              " 'النفس',\n",
              " 'دول',\n",
              " 'ماني',\n",
              " 'علي_اعقابكم_تنكصون',\n",
              " 'قد_كانت_اياتي',\n",
              " 'تتلي_عليكم_فكنتم',\n",
              " 'تعال',\n",
              " 'لاعب',\n",
              " 'زياده',\n",
              " 'صاحب',\n",
              " 'اللهم_قني',\n",
              " 'يطلع',\n",
              " 'اغفر_للمسلمين_والمسلمات',\n",
              " 'الاولي',\n",
              " 'عالم',\n",
              " 'تجي',\n",
              " 'مافيه',\n",
              " 'الليله',\n",
              " 'اسرائيل',\n",
              " 'قوي',\n",
              " 'موجود',\n",
              " 'مستحيل',\n",
              " '[الانعام',\n",
              " 'البعض',\n",
              " 'لانك',\n",
              " 'منهم_والاموات',\n",
              " 'عايز',\n",
              " 'الحمد',\n",
              " 'لقاء',\n",
              " 'خبر',\n",
              " 'كامل',\n",
              " '{ان',\n",
              " 'نهايه',\n",
              " 'عارف',\n",
              " ...]"
            ]
          },
          "metadata": {},
          "execution_count": 26
        }
      ]
    },
    {
      "cell_type": "code",
      "source": [
        "embedding_matrix = np.zeros((vocab_size, 300))\n",
        "\n",
        "for word, i in tok.word_index.items():\n",
        "    if word in embedding_model.wv:\n",
        "        embedding_matrix[i] = embedding_model.wv[word]"
      ],
      "metadata": {
        "id": "BcWlzCoW__F2"
      },
      "execution_count": 27,
      "outputs": []
    },
    {
      "cell_type": "markdown",
      "source": [
        "### Simple RNN"
      ],
      "metadata": {
        "id": "ifKfHPhKsBgV"
      }
    },
    {
      "cell_type": "code",
      "source": [
        "def create_rnn_model(vocab_size, max_len, embeddings_weights):\n",
        "    num_classes=len(pos_keywords)\n",
        "\n",
        "    model = Sequential()\n",
        "\n",
        "    # Embedding Layer\n",
        "    model.add(Embedding(input_dim=vocab_size,\n",
        "                        output_dim=300,\n",
        "                        input_length=max_len,\n",
        "                        weights=[embeddings_weights],\n",
        "                        trainable=False))\n",
        "\n",
        "    # RNN Layer\n",
        "    model.add(SimpleRNN(128, return_sequences=True))\n",
        "    model.add(SimpleRNN(64, return_sequences=True))\n",
        "    model.add(SimpleRNN(32, return_sequences=True))\n",
        "    model.add(SimpleRNN(16, return_sequences=True))\n",
        "\n",
        "    # Dropout for regularization\n",
        "    model.add(Dropout(0.5))\n",
        "\n",
        "    # Fully Connected Output Layer\n",
        "    model.add(Dense(num_classes, activation=\"softmax\"))\n",
        "\n",
        "    # Compile\n",
        "    model.compile(loss=\"categorical_crossentropy\", optimizer=\"adam\", metrics=[\"accuracy\"])\n",
        "\n",
        "    return model\n",
        "\n",
        "rnn_model = create_rnn_model(vocab_size, max_len, embedding_matrix)\n"
      ],
      "metadata": {
        "colab": {
          "base_uri": "https://localhost:8080/"
        },
        "id": "ovdzKQvNsEMk",
        "outputId": "550556a3-765a-4fe5-fec4-83593810528b"
      },
      "execution_count": 28,
      "outputs": [
        {
          "output_type": "stream",
          "name": "stderr",
          "text": [
            "/usr/local/lib/python3.12/dist-packages/keras/src/layers/core/embedding.py:97: UserWarning: Argument `input_length` is deprecated. Just remove it.\n",
            "  warnings.warn(\n"
          ]
        }
      ]
    },
    {
      "cell_type": "code",
      "source": [
        "callback =[EarlyStopping(monitor='val_loss', patience=5, restore_best_weights=True)]\n",
        "\n",
        "rnn_history = rnn_model.fit(\n",
        "                  train_x, train_y,\n",
        "                  validation_split=0.1,\n",
        "                  epochs=10,\n",
        "                  verbose=1,\n",
        "                  callbacks =callback\n",
        ")"
      ],
      "metadata": {
        "colab": {
          "base_uri": "https://localhost:8080/"
        },
        "id": "nUtoIrzWtW6v",
        "outputId": "c1b4ce82-e42b-4ebb-d73c-8c68b3ffb695"
      },
      "execution_count": 30,
      "outputs": [
        {
          "output_type": "stream",
          "name": "stdout",
          "text": [
            "Epoch 1/10\n",
            "\u001b[1m20/20\u001b[0m \u001b[32m━━━━━━━━━━━━━━━━━━━━\u001b[0m\u001b[37m\u001b[0m \u001b[1m19s\u001b[0m 396ms/step - accuracy: 0.4667 - loss: 2.1387 - val_accuracy: 0.9138 - val_loss: 0.7936\n",
            "Epoch 2/10\n",
            "\u001b[1m20/20\u001b[0m \u001b[32m━━━━━━━━━━━━━━━━━━━━\u001b[0m\u001b[37m\u001b[0m \u001b[1m2s\u001b[0m 80ms/step - accuracy: 0.8986 - loss: 0.8755 - val_accuracy: 0.9197 - val_loss: 0.4890\n",
            "Epoch 3/10\n",
            "\u001b[1m20/20\u001b[0m \u001b[32m━━━━━━━━━━━━━━━━━━━━\u001b[0m\u001b[37m\u001b[0m \u001b[1m2s\u001b[0m 77ms/step - accuracy: 0.9067 - loss: 0.6914 - val_accuracy: 0.9222 - val_loss: 0.3923\n",
            "Epoch 4/10\n",
            "\u001b[1m20/20\u001b[0m \u001b[32m━━━━━━━━━━━━━━━━━━━━\u001b[0m\u001b[37m\u001b[0m \u001b[1m2s\u001b[0m 76ms/step - accuracy: 0.9226 - loss: 0.5126 - val_accuracy: 0.9243 - val_loss: 0.3402\n",
            "Epoch 5/10\n",
            "\u001b[1m20/20\u001b[0m \u001b[32m━━━━━━━━━━━━━━━━━━━━\u001b[0m\u001b[37m\u001b[0m \u001b[1m3s\u001b[0m 79ms/step - accuracy: 0.9258 - loss: 0.4407 - val_accuracy: 0.9268 - val_loss: 0.3097\n",
            "Epoch 6/10\n",
            "\u001b[1m20/20\u001b[0m \u001b[32m━━━━━━━━━━━━━━━━━━━━\u001b[0m\u001b[37m\u001b[0m \u001b[1m2s\u001b[0m 76ms/step - accuracy: 0.9273 - loss: 0.3961 - val_accuracy: 0.9276 - val_loss: 0.2933\n",
            "Epoch 7/10\n",
            "\u001b[1m20/20\u001b[0m \u001b[32m━━━━━━━━━━━━━━━━━━━━\u001b[0m\u001b[37m\u001b[0m \u001b[1m2s\u001b[0m 79ms/step - accuracy: 0.9280 - loss: 0.3673 - val_accuracy: 0.9278 - val_loss: 0.2817\n",
            "Epoch 8/10\n",
            "\u001b[1m20/20\u001b[0m \u001b[32m━━━━━━━━━━━━━━━━━━━━\u001b[0m\u001b[37m\u001b[0m \u001b[1m2s\u001b[0m 76ms/step - accuracy: 0.9272 - loss: 0.3573 - val_accuracy: 0.9287 - val_loss: 0.2722\n",
            "Epoch 9/10\n",
            "\u001b[1m20/20\u001b[0m \u001b[32m━━━━━━━━━━━━━━━━━━━━\u001b[0m\u001b[37m\u001b[0m \u001b[1m3s\u001b[0m 76ms/step - accuracy: 0.9296 - loss: 0.3284 - val_accuracy: 0.9292 - val_loss: 0.2666\n",
            "Epoch 10/10\n",
            "\u001b[1m20/20\u001b[0m \u001b[32m━━━━━━━━━━━━━━━━━━━━\u001b[0m\u001b[37m\u001b[0m \u001b[1m2s\u001b[0m 76ms/step - accuracy: 0.9311 - loss: 0.3092 - val_accuracy: 0.9285 - val_loss: 0.2628\n"
          ]
        }
      ]
    },
    {
      "cell_type": "code",
      "source": [
        "loss ,acc = rnn_model.evaluate(test_x, test_y)"
      ],
      "metadata": {
        "colab": {
          "base_uri": "https://localhost:8080/"
        },
        "id": "q0jECD4Yt12I",
        "outputId": "e36b5338-6366-46ff-d7e1-990824c9b701"
      },
      "execution_count": 31,
      "outputs": [
        {
          "output_type": "stream",
          "name": "stdout",
          "text": [
            "\u001b[1m10/10\u001b[0m \u001b[32m━━━━━━━━━━━━━━━━━━━━\u001b[0m\u001b[37m\u001b[0m \u001b[1m1s\u001b[0m 133ms/step - accuracy: 0.9382 - loss: 0.2274\n"
          ]
        }
      ]
    },
    {
      "cell_type": "markdown",
      "source": [
        "### BiLSTM Model"
      ],
      "metadata": {
        "id": "5phTb66TDwI4"
      }
    },
    {
      "cell_type": "code",
      "source": [
        "def create_model():\n",
        "\n",
        "    number_label_classes=len(pos_keywords)\n",
        "\n",
        "    model = Sequential()\n",
        "    model.add(Embedding(input_dim = vocab_size,output_dim=300,input_length = max_len,weights =[embedding_matrix],trainable=True))\n",
        "\n",
        "    model.add(Bidirectional(LSTM(256, return_sequences=True)))\n",
        "    model.add(Bidirectional(LSTM(256, return_sequences=True)))\n",
        "    model.add(Bidirectional(LSTM(256, return_sequences=True)))\n",
        "    model.add(Bidirectional(LSTM(256, return_sequences=True)))\n",
        "    model.add(Dense(128, activation='relu'))\n",
        "    model.add(TimeDistributed(Dense(number_label_classes, activation='softmax')))\n",
        "\n",
        "    # Compile the model\n",
        "    model.compile(optimizer='adam', loss='categorical_crossentropy', metrics=['accuracy'])\n",
        "\n",
        "\n",
        "\n",
        "    return model\n",
        "\n",
        "\n",
        "model = create_model()\n"
      ],
      "metadata": {
        "id": "gdMehJC5D8ib"
      },
      "execution_count": 37,
      "outputs": []
    },
    {
      "cell_type": "code",
      "source": [
        "# fit the model\n",
        "callbacks =[EarlyStopping(monitor='val_loss', patience=5, restore_best_weights=True)]\n",
        "\n",
        "history=model.fit(\n",
        "                train_x, train_y,\n",
        "                validation_split=0.1,\n",
        "                epochs=25,\n",
        "                verbose=1,\n",
        "                callbacks=callbacks\n",
        "               )"
      ],
      "metadata": {
        "colab": {
          "base_uri": "https://localhost:8080/"
        },
        "id": "Kfo-7rVWGaoT",
        "outputId": "f01fd3eb-eb58-4e44-a8d4-30a0e2d7ff9d"
      },
      "execution_count": 38,
      "outputs": [
        {
          "output_type": "stream",
          "name": "stdout",
          "text": [
            "Epoch 1/25\n",
            "\u001b[1m20/20\u001b[0m \u001b[32m━━━━━━━━━━━━━━━━━━━━\u001b[0m\u001b[37m\u001b[0m \u001b[1m25s\u001b[0m 403ms/step - accuracy: 0.7695 - loss: 0.9897 - val_accuracy: 0.9320 - val_loss: 0.2232\n",
            "Epoch 2/25\n",
            "\u001b[1m20/20\u001b[0m \u001b[32m━━━━━━━━━━━━━━━━━━━━\u001b[0m\u001b[37m\u001b[0m \u001b[1m4s\u001b[0m 194ms/step - accuracy: 0.9389 - loss: 0.1935 - val_accuracy: 0.9329 - val_loss: 0.2158\n",
            "Epoch 3/25\n",
            "\u001b[1m20/20\u001b[0m \u001b[32m━━━━━━━━━━━━━━━━━━━━\u001b[0m\u001b[37m\u001b[0m \u001b[1m4s\u001b[0m 201ms/step - accuracy: 0.9395 - loss: 0.1882 - val_accuracy: 0.9331 - val_loss: 0.2114\n",
            "Epoch 4/25\n",
            "\u001b[1m20/20\u001b[0m \u001b[32m━━━━━━━━━━━━━━━━━━━━\u001b[0m\u001b[37m\u001b[0m \u001b[1m4s\u001b[0m 200ms/step - accuracy: 0.9392 - loss: 0.1898 - val_accuracy: 0.9341 - val_loss: 0.2070\n",
            "Epoch 5/25\n",
            "\u001b[1m20/20\u001b[0m \u001b[32m━━━━━━━━━━━━━━━━━━━━\u001b[0m\u001b[37m\u001b[0m \u001b[1m5s\u001b[0m 201ms/step - accuracy: 0.9396 - loss: 0.1849 - val_accuracy: 0.9339 - val_loss: 0.2078\n",
            "Epoch 6/25\n",
            "\u001b[1m20/20\u001b[0m \u001b[32m━━━━━━━━━━━━━━━━━━━━\u001b[0m\u001b[37m\u001b[0m \u001b[1m5s\u001b[0m 207ms/step - accuracy: 0.9394 - loss: 0.1846 - val_accuracy: 0.9348 - val_loss: 0.2026\n",
            "Epoch 7/25\n",
            "\u001b[1m20/20\u001b[0m \u001b[32m━━━━━━━━━━━━━━━━━━━━\u001b[0m\u001b[37m\u001b[0m \u001b[1m5s\u001b[0m 202ms/step - accuracy: 0.9404 - loss: 0.1801 - val_accuracy: 0.9351 - val_loss: 0.2019\n",
            "Epoch 8/25\n",
            "\u001b[1m20/20\u001b[0m \u001b[32m━━━━━━━━━━━━━━━━━━━━\u001b[0m\u001b[37m\u001b[0m \u001b[1m5s\u001b[0m 204ms/step - accuracy: 0.9390 - loss: 0.1815 - val_accuracy: 0.9352 - val_loss: 0.1999\n",
            "Epoch 9/25\n",
            "\u001b[1m20/20\u001b[0m \u001b[32m━━━━━━━━━━━━━━━━━━━━\u001b[0m\u001b[37m\u001b[0m \u001b[1m5s\u001b[0m 193ms/step - accuracy: 0.9417 - loss: 0.1733 - val_accuracy: 0.9353 - val_loss: 0.2079\n",
            "Epoch 10/25\n",
            "\u001b[1m20/20\u001b[0m \u001b[32m━━━━━━━━━━━━━━━━━━━━\u001b[0m\u001b[37m\u001b[0m \u001b[1m5s\u001b[0m 200ms/step - accuracy: 0.9420 - loss: 0.1697 - val_accuracy: 0.9345 - val_loss: 0.2149\n",
            "Epoch 11/25\n",
            "\u001b[1m20/20\u001b[0m \u001b[32m━━━━━━━━━━━━━━━━━━━━\u001b[0m\u001b[37m\u001b[0m \u001b[1m5s\u001b[0m 199ms/step - accuracy: 0.9434 - loss: 0.1646 - val_accuracy: 0.9354 - val_loss: 0.2175\n",
            "Epoch 12/25\n",
            "\u001b[1m20/20\u001b[0m \u001b[32m━━━━━━━━━━━━━━━━━━━━\u001b[0m\u001b[37m\u001b[0m \u001b[1m5s\u001b[0m 194ms/step - accuracy: 0.9443 - loss: 0.1606 - val_accuracy: 0.9354 - val_loss: 0.2052\n",
            "Epoch 13/25\n",
            "\u001b[1m20/20\u001b[0m \u001b[32m━━━━━━━━━━━━━━━━━━━━\u001b[0m\u001b[37m\u001b[0m \u001b[1m5s\u001b[0m 203ms/step - accuracy: 0.9461 - loss: 0.1560 - val_accuracy: 0.9360 - val_loss: 0.2111\n"
          ]
        }
      ]
    },
    {
      "cell_type": "code",
      "source": [
        "loss,accuracy =model.evaluate(test_x, test_y)"
      ],
      "metadata": {
        "colab": {
          "base_uri": "https://localhost:8080/"
        },
        "id": "YfySeqB5Ndpi",
        "outputId": "5ff38e01-2307-43b9-9696-b7f4bd8b0fe9"
      },
      "execution_count": 39,
      "outputs": [
        {
          "output_type": "stream",
          "name": "stdout",
          "text": [
            "\u001b[1m10/10\u001b[0m \u001b[32m━━━━━━━━━━━━━━━━━━━━\u001b[0m\u001b[37m\u001b[0m \u001b[1m1s\u001b[0m 72ms/step - accuracy: 0.9416 - loss: 0.1770\n"
          ]
        }
      ]
    },
    {
      "cell_type": "code",
      "source": [
        "#Step1: round the predicted values to int (bcuz it is in the 1-hot-encoding format)\n",
        "predict_y=model.predict(test_x)\n",
        "predict_y=np.rint(predict_y)\n",
        "predict_y=predict_y.astype(int)"
      ],
      "metadata": {
        "colab": {
          "base_uri": "https://localhost:8080/"
        },
        "id": "8xtdrB3zN_Pn",
        "outputId": "c644a036-d1a2-4095-e370-4103cc25bf7c"
      },
      "execution_count": null,
      "outputs": [
        {
          "output_type": "stream",
          "name": "stdout",
          "text": [
            "\u001b[1m10/10\u001b[0m \u001b[32m━━━━━━━━━━━━━━━━━━━━\u001b[0m\u001b[37m\u001b[0m \u001b[1m6s\u001b[0m 388ms/step\n"
          ]
        }
      ]
    },
    {
      "cell_type": "code",
      "source": [
        "import matplotlib.pyplot as plt\n",
        "\n",
        "# Create a figure with 1 row and 2 columns\n",
        "fig, axs = plt.subplots(1, 2, figsize=(8, 4))\n",
        "\n",
        "# Plot accuracy\n",
        "axs[0].plot(history.history['accuracy'])\n",
        "axs[0].plot(history.history['val_accuracy'])\n",
        "axs[0].set_title('Model Accuracy')\n",
        "axs[0].set_xlabel('Epoch')\n",
        "axs[0].set_ylabel('Accuracy')\n",
        "axs[0].legend(['Train', 'Test'], loc='upper left')\n",
        "\n",
        "# Plot loss\n",
        "axs[1].plot(history.history['loss'])\n",
        "axs[1].plot(history.history['val_loss'])\n",
        "axs[1].set_title('Model Loss')\n",
        "axs[1].set_xlabel('Epoch')\n",
        "axs[1].set_ylabel('Loss')\n",
        "axs[1].legend(['Train', 'Test'], loc='upper left')\n",
        "\n",
        "# Show the plots\n",
        "plt.tight_layout()\n",
        "plt.show()\n"
      ],
      "metadata": {
        "colab": {
          "base_uri": "https://localhost:8080/",
          "height": 407
        },
        "id": "O_tjROSdQqjM",
        "outputId": "a0dc2157-0baf-4827-f357-621fddee0bed"
      },
      "execution_count": null,
      "outputs": [
        {
          "output_type": "display_data",
          "data": {
            "text/plain": [
              "<Figure size 800x400 with 2 Axes>"
            ],
            "image/png": "[encoded data removed]"
          },
          "metadata": {}
        }
      ]
    },
    {
      "cell_type": "markdown",
      "source": [
        "### CNN + BiLSTM"
      ],
      "metadata": {
        "id": "uxPmU8GYnCKp"
      }
    },
    {
      "cell_type": "code",
      "source": [
        "def create_cnn_bilstm(vocab_size, max_len, embeddings_weights, num_classes):\n",
        "    model = Sequential()\n",
        "    model.add(Embedding(input_dim=vocab_size,\n",
        "                        output_dim=300,\n",
        "                        input_length=max_len,\n",
        "                        weights=[embeddings_weights],\n",
        "                        trainable=False))\n",
        "    model.add(Conv1D(filters=128, kernel_size=3, activation='relu', padding='same'))\n",
        "    model.add(Bidirectional(LSTM(50, return_sequences=True)))\n",
        "    model.add(TimeDistributed(Dense(num_classes, activation='softmax')))\n",
        "\n",
        "    model.compile(optimizer='adam', loss='categorical_crossentropy', metrics=['accuracy'])\n",
        "    return model\n",
        "\n",
        "cnn_bilstm_model = create_cnn_bilstm(vocab_size, max_len, embedding_matrix, len(pos_keywords))\n"
      ],
      "metadata": {
        "id": "UwqiZk6ynA8r"
      },
      "execution_count": 53,
      "outputs": []
    },
    {
      "cell_type": "code",
      "source": [
        "callbacks =[EarlyStopping(monitor='val_loss', patience=5, restore_best_weights=True)]\n",
        "\n",
        "cnn_history =cnn_bilstm_model.fit(\n",
        "                        train_x, train_y,\n",
        "                        validation_split=0.1,\n",
        "                        epochs=50,\n",
        "                        verbose=1,\n",
        "                        callbacks=callbacks\n",
        "                       )"
      ],
      "metadata": {
        "colab": {
          "base_uri": "https://localhost:8080/"
        },
        "id": "JyuuZePBoSBi",
        "outputId": "620e1292-1c2a-4975-89fb-cfe2f77daac3"
      },
      "execution_count": 54,
      "outputs": [
        {
          "output_type": "stream",
          "name": "stdout",
          "text": [
            "Epoch 1/50\n",
            "\u001b[1m20/20\u001b[0m \u001b[32m━━━━━━━━━━━━━━━━━━━━\u001b[0m\u001b[37m\u001b[0m \u001b[1m18s\u001b[0m 220ms/step - accuracy: 0.7649 - loss: 2.5622 - val_accuracy: 0.9285 - val_loss: 0.4568\n",
            "Epoch 2/50\n",
            "\u001b[1m20/20\u001b[0m \u001b[32m━━━━━━━━━━━━━━━━━━━━\u001b[0m\u001b[37m\u001b[0m \u001b[1m1s\u001b[0m 63ms/step - accuracy: 0.9354 - loss: 0.2981 - val_accuracy: 0.9314 - val_loss: 0.2396\n",
            "Epoch 3/50\n",
            "\u001b[1m20/20\u001b[0m \u001b[32m━━━━━━━━━━━━━━━━━━━━\u001b[0m\u001b[37m\u001b[0m \u001b[1m2s\u001b[0m 76ms/step - accuracy: 0.9391 - loss: 0.2041 - val_accuracy: 0.9320 - val_loss: 0.2182\n",
            "Epoch 4/50\n",
            "\u001b[1m20/20\u001b[0m \u001b[32m━━━━━━━━━━━━━━━━━━━━\u001b[0m\u001b[37m\u001b[0m \u001b[1m2s\u001b[0m 57ms/step - accuracy: 0.9393 - loss: 0.1911 - val_accuracy: 0.9329 - val_loss: 0.2145\n",
            "Epoch 5/50\n",
            "\u001b[1m20/20\u001b[0m \u001b[32m━━━━━━━━━━━━━━━━━━━━\u001b[0m\u001b[37m\u001b[0m \u001b[1m1s\u001b[0m 60ms/step - accuracy: 0.9399 - loss: 0.1872 - val_accuracy: 0.9338 - val_loss: 0.2117\n",
            "Epoch 6/50\n",
            "\u001b[1m20/20\u001b[0m \u001b[32m━━━━━━━━━━━━━━━━━━━━\u001b[0m\u001b[37m\u001b[0m \u001b[1m1s\u001b[0m 60ms/step - accuracy: 0.9428 - loss: 0.1808 - val_accuracy: 0.9341 - val_loss: 0.2104\n",
            "Epoch 7/50\n",
            "\u001b[1m20/20\u001b[0m \u001b[32m━━━━━━━━━━━━━━━━━━━━\u001b[0m\u001b[37m\u001b[0m \u001b[1m1s\u001b[0m 56ms/step - accuracy: 0.9428 - loss: 0.1789 - val_accuracy: 0.9345 - val_loss: 0.2085\n",
            "Epoch 8/50\n",
            "\u001b[1m20/20\u001b[0m \u001b[32m━━━━━━━━━━━━━━━━━━━━\u001b[0m\u001b[37m\u001b[0m \u001b[1m1s\u001b[0m 59ms/step - accuracy: 0.9447 - loss: 0.1732 - val_accuracy: 0.9351 - val_loss: 0.2074\n",
            "Epoch 9/50\n",
            "\u001b[1m20/20\u001b[0m \u001b[32m━━━━━━━━━━━━━━━━━━━━\u001b[0m\u001b[37m\u001b[0m \u001b[1m1s\u001b[0m 60ms/step - accuracy: 0.9469 - loss: 0.1663 - val_accuracy: 0.9362 - val_loss: 0.2061\n",
            "Epoch 10/50\n",
            "\u001b[1m20/20\u001b[0m \u001b[32m━━━━━━━━━━━━━━━━━━━━\u001b[0m\u001b[37m\u001b[0m \u001b[1m1s\u001b[0m 55ms/step - accuracy: 0.9478 - loss: 0.1658 - val_accuracy: 0.9359 - val_loss: 0.2073\n",
            "Epoch 11/50\n",
            "\u001b[1m20/20\u001b[0m \u001b[32m━━━━━━━━━━━━━━━━━━━━\u001b[0m\u001b[37m\u001b[0m \u001b[1m1s\u001b[0m 66ms/step - accuracy: 0.9490 - loss: 0.1598 - val_accuracy: 0.9360 - val_loss: 0.2078\n",
            "Epoch 12/50\n",
            "\u001b[1m20/20\u001b[0m \u001b[32m━━━━━━━━━━━━━━━━━━━━\u001b[0m\u001b[37m\u001b[0m \u001b[1m2s\u001b[0m 77ms/step - accuracy: 0.9519 - loss: 0.1521 - val_accuracy: 0.9364 - val_loss: 0.2083\n",
            "Epoch 13/50\n",
            "\u001b[1m20/20\u001b[0m \u001b[32m━━━━━━━━━━━━━━━━━━━━\u001b[0m\u001b[37m\u001b[0m \u001b[1m2s\u001b[0m 56ms/step - accuracy: 0.9526 - loss: 0.1497 - val_accuracy: 0.9353 - val_loss: 0.2106\n",
            "Epoch 14/50\n",
            "\u001b[1m20/20\u001b[0m \u001b[32m━━━━━━━━━━━━━━━━━━━━\u001b[0m\u001b[37m\u001b[0m \u001b[1m1s\u001b[0m 57ms/step - accuracy: 0.9535 - loss: 0.1441 - val_accuracy: 0.9364 - val_loss: 0.2090\n"
          ]
        }
      ]
    },
    {
      "cell_type": "code",
      "source": [
        "loss ,acc = cnn_bilstm_model.evaluate(test_x, test_y)"
      ],
      "metadata": {
        "colab": {
          "base_uri": "https://localhost:8080/"
        },
        "id": "XD9q99sWpB2T",
        "outputId": "7193d8f7-b989-48e8-bebe-152faa02c8bf"
      },
      "execution_count": 55,
      "outputs": [
        {
          "output_type": "stream",
          "name": "stdout",
          "text": [
            "\u001b[1m10/10\u001b[0m \u001b[32m━━━━━━━━━━━━━━━━━━━━\u001b[0m\u001b[37m\u001b[0m \u001b[1m0s\u001b[0m 29ms/step - accuracy: 0.9444 - loss: 0.1744\n"
          ]
        }
      ]
    },
    {
      "cell_type": "code",
      "source": [
        "# Create a figure with 1 row and 2 columns\n",
        "fig, axs = plt.subplots(1, 2, figsize=(8, 4))\n",
        "\n",
        "# Plot accuracy\n",
        "axs[0].plot(cnn_history.history['accuracy'])\n",
        "axs[0].plot(cnn_history.history['val_accuracy'])\n",
        "axs[0].set_title('Model Accuracy')\n",
        "axs[0].set_xlabel('Epoch')\n",
        "axs[0].set_ylabel('Accuracy')\n",
        "axs[0].legend(['Train', 'Test'], loc='upper left')\n",
        "\n",
        "# Plot loss\n",
        "axs[1].plot(cnn_history.history['loss'])\n",
        "axs[1].plot(cnn_history.history['val_loss'])\n",
        "axs[1].set_title('Model Loss')\n",
        "axs[1].set_xlabel('Epoch')\n",
        "axs[1].set_ylabel('Loss')\n",
        "axs[1].legend(['Train', 'Test'], loc='upper left')\n",
        "\n",
        "# Show the plots\n",
        "plt.tight_layout()\n",
        "plt.show()\n"
      ],
      "metadata": {
        "colab": {
          "base_uri": "https://localhost:8080/",
          "height": 407
        },
        "id": "3y0ILdYnpsxb",
        "outputId": "f2fad2dc-53e0-4e36-f1da-828fca3ea4d4"
      },
      "execution_count": 56,
      "outputs": [
        {
          "output_type": "display_data",
          "data": {
            "text/plain": [
              "<Figure size 800x400 with 2 Axes>"
            ],
            "image/png": "[encoded data removed]"
          },
          "metadata": {}
        }
      ]
    },
    {
      "cell_type": "markdown",
      "source": [
        "### BiGRU"
      ],
      "metadata": {
        "id": "hQL3pb1Mp7WC"
      }
    },
    {
      "cell_type": "code",
      "source": [
        "def create_bigru(vocab_size, max_len, embeddings_weights, num_classes):\n",
        "    model = Sequential()\n",
        "\n",
        "    # Embedding layer with pretrained weights (word2vec)\n",
        "    model.add(Embedding(input_dim=vocab_size,\n",
        "                        output_dim=300,\n",
        "                        input_length=max_len,\n",
        "                        weights=[embeddings_weights],\n",
        "                        trainable=False))  # freeze embeddings\n",
        "\n",
        "    # BiGRU layer\n",
        "    model.add(Bidirectional(GRU(128, return_sequences=True)))\n",
        "    model.add(Bidirectional(GRU(100, return_sequences=True)))\n",
        "    model.add(Bidirectional(GRU(70, return_sequences=True)))\n",
        "    model.add(Bidirectional(GRU(50, return_sequences=True)))\n",
        "\n",
        "    # TimeDistributed Dense for sequence labeling\n",
        "    model.add(TimeDistributed(Dense(num_classes, activation=\"softmax\")))\n",
        "\n",
        "    # Compile\n",
        "    model.compile(optimizer=\"adam\", loss=\"categorical_crossentropy\", metrics=[\"accuracy\"])\n",
        "\n",
        "    return model\n",
        "\n",
        "\n",
        "gru_model = create_bigru(vocab_size, max_len, embedding_matrix, len(pos_keywords))\n"
      ],
      "metadata": {
        "colab": {
          "base_uri": "https://localhost:8080/"
        },
        "id": "fYXTuVSWqJYn",
        "outputId": "7d681718-8108-4167-97fc-4d06ddeef94a"
      },
      "execution_count": 62,
      "outputs": [
        {
          "output_type": "stream",
          "name": "stderr",
          "text": [
            "/usr/local/lib/python3.12/dist-packages/keras/src/layers/core/embedding.py:97: UserWarning: Argument `input_length` is deprecated. Just remove it.\n",
            "  warnings.warn(\n"
          ]
        }
      ]
    },
    {
      "cell_type": "code",
      "source": [
        "callbacks =[EarlyStopping(monitor='val_loss', patience=5, restore_best_weights=True)]\n",
        "\n",
        "gru_history = gru_model.fit(\n",
        "    train_x, train_y,\n",
        "    validation_split=0.1,\n",
        "    epochs=50,\n",
        "    verbose=1,\n",
        "    callbacks=callbacks\n",
        ")"
      ],
      "metadata": {
        "colab": {
          "base_uri": "https://localhost:8080/"
        },
        "id": "VY3DCObiqkZt",
        "outputId": "f6906e3c-cc4d-42d3-d03e-9188980d8283"
      },
      "execution_count": 63,
      "outputs": [
        {
          "output_type": "stream",
          "name": "stdout",
          "text": [
            "Epoch 1/50\n",
            "\u001b[1m20/20\u001b[0m \u001b[32m━━━━━━━━━━━━━━━━━━━━\u001b[0m\u001b[37m\u001b[0m \u001b[1m32s\u001b[0m 299ms/step - accuracy: 0.7716 - loss: 1.7914 - val_accuracy: 0.9307 - val_loss: 0.2773\n",
            "Epoch 2/50\n",
            "\u001b[1m20/20\u001b[0m \u001b[32m━━━━━━━━━━━━━━━━━━━━\u001b[0m\u001b[37m\u001b[0m \u001b[1m6s\u001b[0m 109ms/step - accuracy: 0.9364 - loss: 0.2201 - val_accuracy: 0.9317 - val_loss: 0.2197\n",
            "Epoch 3/50\n",
            "\u001b[1m20/20\u001b[0m \u001b[32m━━━━━━━━━━━━━━━━━━━━\u001b[0m\u001b[37m\u001b[0m \u001b[1m2s\u001b[0m 108ms/step - accuracy: 0.9374 - loss: 0.1961 - val_accuracy: 0.9320 - val_loss: 0.2158\n",
            "Epoch 4/50\n",
            "\u001b[1m20/20\u001b[0m \u001b[32m━━━━━━━━━━━━━━━━━━━━\u001b[0m\u001b[37m\u001b[0m \u001b[1m2s\u001b[0m 109ms/step - accuracy: 0.9379 - loss: 0.1915 - val_accuracy: 0.9325 - val_loss: 0.2171\n",
            "Epoch 5/50\n",
            "\u001b[1m20/20\u001b[0m \u001b[32m━━━━━━━━━━━━━━━━━━━━\u001b[0m\u001b[37m\u001b[0m \u001b[1m3s\u001b[0m 125ms/step - accuracy: 0.9393 - loss: 0.1864 - val_accuracy: 0.9323 - val_loss: 0.2162\n",
            "Epoch 6/50\n",
            "\u001b[1m20/20\u001b[0m \u001b[32m━━━━━━━━━━━━━━━━━━━━\u001b[0m\u001b[37m\u001b[0m \u001b[1m2s\u001b[0m 107ms/step - accuracy: 0.9415 - loss: 0.1778 - val_accuracy: 0.9332 - val_loss: 0.2174\n",
            "Epoch 7/50\n",
            "\u001b[1m20/20\u001b[0m \u001b[32m━━━━━━━━━━━━━━━━━━━━\u001b[0m\u001b[37m\u001b[0m \u001b[1m3s\u001b[0m 109ms/step - accuracy: 0.9410 - loss: 0.1791 - val_accuracy: 0.9336 - val_loss: 0.2202\n",
            "Epoch 8/50\n",
            "\u001b[1m20/20\u001b[0m \u001b[32m━━━━━━━━━━━━━━━━━━━━\u001b[0m\u001b[37m\u001b[0m \u001b[1m2s\u001b[0m 107ms/step - accuracy: 0.9441 - loss: 0.1689 - val_accuracy: 0.9331 - val_loss: 0.2247\n"
          ]
        }
      ]
    },
    {
      "cell_type": "code",
      "source": [
        "loss ,acc = gru_model.evaluate(test_x, test_y)"
      ],
      "metadata": {
        "colab": {
          "base_uri": "https://localhost:8080/"
        },
        "id": "9h2UH5ScqkWm",
        "outputId": "6571d786-4891-4542-b7d9-636436d00674"
      },
      "execution_count": 64,
      "outputs": [
        {
          "output_type": "stream",
          "name": "stdout",
          "text": [
            "\u001b[1m10/10\u001b[0m \u001b[32m━━━━━━━━━━━━━━━━━━━━\u001b[0m\u001b[37m\u001b[0m \u001b[1m1s\u001b[0m 48ms/step - accuracy: 0.9405 - loss: 0.1852\n"
          ]
        }
      ]
    },
    {
      "cell_type": "code",
      "source": [
        "# Create a figure with 1 row and 2 columns\n",
        "fig, axs = plt.subplots(1, 2, figsize=(8, 4))\n",
        "\n",
        "# Plot accuracy\n",
        "axs[0].plot(gru_history.history['accuracy'])\n",
        "axs[0].plot(gru_history.history['val_accuracy'])\n",
        "axs[0].set_title('Model Accuracy')\n",
        "axs[0].set_xlabel('Epoch')\n",
        "axs[0].set_ylabel('Accuracy')\n",
        "axs[0].legend(['Train', 'Test'], loc='upper left')\n",
        "\n",
        "# Plot loss\n",
        "axs[1].plot(gru_history.history['loss'])\n",
        "axs[1].plot(gru_history.history['val_loss'])\n",
        "axs[1].set_title('Model Loss')\n",
        "axs[1].set_xlabel('Epoch')\n",
        "axs[1].set_ylabel('Loss')\n",
        "axs[1].legend(['Train', 'Test'], loc='upper left')\n",
        "\n",
        "# Show the plots\n",
        "plt.tight_layout()\n",
        "plt.show()"
      ],
      "metadata": {
        "colab": {
          "base_uri": "https://localhost:8080/",
          "height": 407
        },
        "id": "FQRMXiCWSbHe",
        "outputId": "d4cf1ae3-317d-4ac0-c16c-00881fcf7d08"
      },
      "execution_count": 65,
      "outputs": [
        {
          "output_type": "display_data",
          "data": {
            "text/plain": [
              "<Figure size 800x400 with 2 Axes>"
            ],
            "image/png": "[encoded data removed]"
          },
          "metadata": {}
        }
      ]
    },
    {
      "cell_type": "markdown",
      "source": [
        "## Save & Load Trained Model"
      ],
      "metadata": {
        "id": "Y1JgBvokLu_A"
      }
    },
    {
      "cell_type": "code",
      "source": [
        "# Save the whole model\n",
        "model.save(\"cnn_bilstm_model.keras\")"
      ],
      "metadata": {
        "id": "fNFRRFtTLpO4"
      },
      "execution_count": 66,
      "outputs": []
    },
    {
      "cell_type": "code",
      "source": [
        "# load saved model\n",
        "best_model =load_model(\"cnn_bilstm_model.keras\")"
      ],
      "metadata": {
        "id": "5dGWbKKANPmc"
      },
      "execution_count": 67,
      "outputs": []
    },
    {
      "cell_type": "markdown",
      "source": [
        "## Make Prediction"
      ],
      "metadata": {
        "id": "CYUBZJHWUJZW"
      }
    },
    {
      "cell_type": "code",
      "source": [
        "predict_y=best_model.predict(test_x)"
      ],
      "metadata": {
        "colab": {
          "base_uri": "https://localhost:8080/"
        },
        "id": "MPCkD1GLUNw0",
        "outputId": "8a7d0931-7205-4fd6-b320-0e5acbc348aa"
      },
      "execution_count": 68,
      "outputs": [
        {
          "output_type": "stream",
          "name": "stdout",
          "text": [
            "\u001b[1m10/10\u001b[0m \u001b[32m━━━━━━━━━━━━━━━━━━━━\u001b[0m\u001b[37m\u001b[0m \u001b[1m6s\u001b[0m 340ms/step\n"
          ]
        }
      ]
    },
    {
      "cell_type": "code",
      "source": [
        "predict_y.shape"
      ],
      "metadata": {
        "colab": {
          "base_uri": "https://localhost:8080/"
        },
        "id": "zFva93WuUWCk",
        "outputId": "b106286d-8855-41e0-a105-0672e4b6fe85"
      },
      "execution_count": 69,
      "outputs": [
        {
          "output_type": "execute_result",
          "data": {
            "text/plain": [
              "(300, 257, 16)"
            ]
          },
          "metadata": {},
          "execution_count": 69
        }
      ]
    },
    {
      "cell_type": "code",
      "source": [
        "#Step2: convert from 1-hot-encoding format to label encoding\n",
        "\n",
        "def reverse_1hotenc(onehotenc):\n",
        "    \"\"\"Convert from one-hot encoding to label indices\"\"\"\n",
        "    decoded = np.argmax(onehotenc, axis=-1)\n",
        "    return decoded\n",
        "\n",
        "test_y=reverse_1hotenc(test_y)\n",
        "predict_y=reverse_1hotenc(predict_y)"
      ],
      "metadata": {
        "id": "0XHIi-aKO8aF"
      },
      "execution_count": 70,
      "outputs": []
    },
    {
      "cell_type": "code",
      "source": [
        "predict_y.shape, test_y.shape"
      ],
      "metadata": {
        "colab": {
          "base_uri": "https://localhost:8080/"
        },
        "id": "ntasMllxUde6",
        "outputId": "81dbb54a-4eca-45c7-8560-88f0b4f6731e"
      },
      "execution_count": 72,
      "outputs": [
        {
          "output_type": "execute_result",
          "data": {
            "text/plain": [
              "((300, 257), (300, 257))"
            ]
          },
          "metadata": {},
          "execution_count": 72
        }
      ]
    },
    {
      "cell_type": "code",
      "source": [
        "# Map index → POS tag\n",
        "idx2tag = {i: tag for i, tag in enumerate(pos_keywords)}\n",
        "\n",
        "def decode_tags(indices):\n",
        "    return [[idx2tag[idx] for idx in sentence] for sentence in indices]\n",
        "\n",
        "true_tags = decode_tags(test_y)\n",
        "pred_tags = decode_tags(predict_y)"
      ],
      "metadata": {
        "id": "sE_VNCRkmSbb"
      },
      "execution_count": 73,
      "outputs": []
    },
    {
      "cell_type": "code",
      "source": [
        "sentence_idx = 0\n",
        "sentence_words = [tok.index_word[idx] for idx in test_x[sentence_idx] if idx != 0]\n",
        "\n",
        "\n",
        "true_sentence_tags = true_tags[sentence_idx][:len(sentence_words)]\n",
        "pred_sentence_tags = pred_tags[sentence_idx][:len(sentence_words)]\n",
        "\n",
        "print(\"Sentence:\", \" \".join(sentence_words))\n",
        "print(\"True Tags:\", true_sentence_tags)\n",
        "print(\"Predicted Tags:\", pred_sentence_tags)\n"
      ],
      "metadata": {
        "colab": {
          "base_uri": "https://localhost:8080/"
        },
        "id": "0vZbCRa-VY94",
        "outputId": "d830b2dc-326e-4dc6-c512-6ab13247aec0"
      },
      "execution_count": 79,
      "outputs": [
        {
          "output_type": "stream",
          "name": "stdout",
          "text": [
            "Sentence: تتواصل التحقيقات والبعثات الاستكشافية إلى الجزيرة\n",
            "True Tags: ['VERB', 'NOUN', 'CCONJ', 'NOUN', 'ADJ', 'ADP']\n",
            "Predicted Tags: ['VERB', 'NOUN', 'NOUN', 'NOUN', 'NOUN', 'NOUN']\n"
          ]
        }
      ]
    },
    {
      "cell_type": "code",
      "source": [
        "# Add nodes and edges\n",
        "import networkx as nx\n",
        "import matplotlib.pyplot as plt\n",
        "\n",
        "G = nx.DiGraph()\n",
        "for i, (word, pos_tag) in enumerate(zip(sentence_words, pred_sentence_tags)):\n",
        "    G.add_node(i, label=f\"{word}\\n{pos_tag}\")\n",
        "\n",
        "    # Connect word → next word\n",
        "    if i > 0:\n",
        "        G.add_edge(i-1, i)\n",
        "\n",
        "# Draw graph\n",
        "plt.figure(figsize=(12, 6))\n",
        "graph_pos = nx.spring_layout(G, k=3, seed=42)\n",
        "\n",
        "# Draw nodes\n",
        "nx.draw_networkx_nodes(G, graph_pos, node_color='#4285f4',\n",
        "                       node_size=3000, alpha=0.9)\n",
        "\n",
        "# Draw edges\n",
        "nx.draw_networkx_edges(G, graph_pos, edge_color='gray',\n",
        "                       arrows=True, arrowsize=20, width=2)\n",
        "\n",
        "# Add labels (word + POS)\n",
        "labels = nx.get_node_attributes(G, 'label')\n",
        "nx.draw_networkx_labels(G, graph_pos, labels, font_size=12,\n",
        "                        font_color='white', font_weight='bold')\n",
        "\n",
        "plt.title(\"POS Tag Prediction Network Graph\", size=16, weight='bold')\n",
        "plt.axis('off')\n",
        "plt.tight_layout()\n",
        "plt.show()"
      ],
      "metadata": {
        "colab": {
          "base_uri": "https://localhost:8080/",
          "height": 607
        },
        "id": "1Tbeasm8VSiK",
        "outputId": "179f78f0-5ec0-4c34-f2bb-29fa5a3c59e5"
      },
      "execution_count": 81,
      "outputs": [
        {
          "output_type": "display_data",
          "data": {
            "text/plain": [
              "<Figure size 1200x600 with 1 Axes>"
            ],
            "image/png": "[encoded data removed]"
          },
          "metadata": {}
        }
      ]
    },
    {
      "cell_type": "markdown",
      "source": [
        "# Transformers model :\n",
        "### arabic-camelbert-mix-pos-msa"
      ],
      "metadata": {
        "id": "7PiGcOk0KRVw"
      }
    },
    {
      "cell_type": "code",
      "source": [
        "article= \"\"\"\n",
        "ذكرت مجلة فوربس أن العائلة تلعب دورا محوريا في تشكيل علاقة الأفراد بالمال،\n",
        " حيث تتأثر هذه العلاقة بأنماط السلوك المالي المتوارثة عبر الأجيال.\n",
        "\n",
        "التقرير الذي يستند إلى أبحاث الأستاذ الجامعي شاين إنيت حول\n",
        "الرفاه المالي يوضح أن لكل شخص \"شخصية مالية\" تتحدد وفقا لطريقة\n",
        " تفاعله مع المال، والتي تتأثر بشكل مباشر بتربية الأسرة وتجارب الطفولة.\n",
        "\n",
        " الأبعاد الثلاثة للعلاقة بالمال\n",
        "بحسب الدراسة، هناك ثلاثة أبعاد رئيسية تشكّل علاقتنا بالمال:\n",
        "\n",
        "الاكتساب (A): يميل الأفراد الذين ينتمون لهذا\n",
        " البعد إلى اعتبار المال سلعة قابلة للجمع، حيث يرون\n",
        "في تحقيق الثروة هدفا بحد ذاته. والجانب السلبي لهذا\n",
        " النمط هو إمكانية التحول إلى هوس بالثروة أو العكس،\n",
        " أي رفض تام لاكتساب المال باعتباره مصدرا للفساد.\n",
        "\n",
        "الاستخدام (U): يرى هؤلاء الأشخاص المال أداة للتمتع بالحياة، حيث يربطون قيمته بقدرته على توفير\n",
        "المتعة والراحة. ومع ذلك، قد يصبح\n",
        "البعض مدمنا على الإنفاق، في حين يتجه آخرون إلى التقشف المفرط خوفا من المستقبل.\n",
        "\n",
        "الإدارة (M): أصحاب هذا النمط يعتبرون المال مسؤولية تتطلب التخطيط الدقيق. لكن في بعض الحالات،\n",
        " قد يتحول الأمر إلى هوس مفرط بإدارة الإنفاق، مما يؤثر سلبا على العلاقات الشخصية.\n",
        "\n",
        " كيف تؤثر العائلة على علاقتنا بالمال؟\n",
        "يشير التقرير إلى أن التجارب الأسرية تلعب دورا رئيسيا في تحديد\n",
        " \"الشخصية المالية\" لكل فرد، على سبيل المثال، إذا كان أحد الوالدين يعتمد على المال\n",
        "كمكافأة للسلوك الجيد، فقد يتبنى الطفل لاحقا النمط نفسه في حياته البالغة.\n",
        "\n",
        "لتحليل هذه التأثيرات بشكل دقيق، طورت رابطة العلاج المالي\n",
        "(Financial Therapy Association) أداة تسمى مخطط الجينوم المالي (Money Genogram)،\n",
        "وهو نموذج يُستخدم لتحديد الأنماط المالية داخل العائلة.\n",
        "\n",
        "تتضمن هذه الأداة:\n",
        "\n",
        "رسم شجرة عائلية.\n",
        "تصنيف أفراد العائلة وفقا للأبعاد الثلاثة للعلاقة بالمال (A ،U ،M).\n",
        "تحديد ما إذا كان السلوك المالي لكل فرد صحيا (+) أو غير صحي (-).\n",
        "على سبيل المثال، إذا نشأ شخص في عائلة\n",
        "اعتادت على الإنفاق المفرط، فقد يكون لديه ميل قوي إلى اتباع النمط نفسه،\n",
        " أو العكس تماما، حيث يصبح مقتصدا بشكل مبالغ فيه كرد فعل نفسي.\n",
        "\"\"\""
      ],
      "metadata": {
        "id": "WH7DfPNFXeIM"
      },
      "execution_count": 83,
      "outputs": []
    },
    {
      "cell_type": "markdown",
      "source": [
        "### Data Preprocessing"
      ],
      "metadata": {
        "id": "58_NVXXH7v3M"
      }
    },
    {
      "cell_type": "code",
      "source": [
        "def preprocess_with_camel(text: str):\n",
        "    # Normalize common characters\n",
        "    text = normalize_alef_ar(text)\n",
        "    text = normalize_teh_marbuta_ar(text)\n",
        "    text = normalize_alef_maksura_ar(text)\n",
        "\n",
        "    # Remove diacritics (harakat)\n",
        "    text = dediac_ar(text)\n",
        "\n",
        "    # 3. Remove punctuation\n",
        "    text = re.sub(r\"[.\\-؟!,]\", \" \", text)\n",
        "\n",
        "\n",
        "    return text"
      ],
      "metadata": {
        "id": "j8ozZib1xvTR"
      },
      "execution_count": null,
      "outputs": []
    },
    {
      "cell_type": "markdown",
      "source": [
        "### Loading Model"
      ],
      "metadata": {
        "id": "kxHY_J8ADNw_"
      }
    },
    {
      "cell_type": "code",
      "source": [
        "# login into huggingface\n",
        "from huggingface_hub import login\n",
        "from google.colab import userdata\n",
        "\n",
        "api_key = userdata.get('HF_Token').strip()\n",
        "login(api_key)"
      ],
      "metadata": {
        "id": "320UXjiPCN_5"
      },
      "execution_count": null,
      "outputs": []
    },
    {
      "cell_type": "code",
      "source": [
        "from transformers import pipeline\n",
        "\n",
        "# Correct way to use CAMeLBERT for POS tagging\n",
        "pos_tagger = pipeline(\n",
        "    \"token-classification\",\n",
        "    model=\"CAMeL-Lab/bert-base-arabic-camelbert-mix-pos-msa\",\n",
        "    tokenizer=\"CAMeL-Lab/bert-base-arabic-camelbert-mix-pos-msa\",\n",
        "    aggregation_strategy=\"simple\"\n",
        ")"
      ],
      "metadata": {
        "id": "My_qs0dKERBr"
      },
      "execution_count": null,
      "outputs": []
    },
    {
      "cell_type": "code",
      "source": [
        "text = preprocess_with_camel(article)\n",
        "print(text)\n",
        "results = pos_tagger(text)\n",
        "\n",
        "for result in results:\n",
        "    print(f\"({result['word']}, '{result['entity_group']}')\")"
      ],
      "metadata": {
        "colab": {
          "base_uri": "https://localhost:8080/"
        },
        "id": "2RTnRI7ctVT-",
        "outputId": "9cf4faa3-965b-453a-bbb0-515aac808fae"
      },
      "execution_count": null,
      "outputs": [
        {
          "output_type": "stream",
          "name": "stdout",
          "text": [
            "في وقت كانت الموجه الاولي من الربيع العربي وما استتبعته من تعديلات دستوريه في عده دول عربيه وما حصل من سجالات حول موقع الاسلام او الشريعه من هذه التعديلات الدستوريه ومن الدوله عموما والصراعات السياسيه والايديولوجيه بين التيارات الفكريه والسياسيه العربيه الاسلاميه والعلمانيه، ما زالت قائمه او  علي الاقل  ماثله في الاذهان وحاضره في السجال العام، في هذا الوقت المفصلي في التاريخ العربي الحاضر، صدرت الترجمه العربيه لكتاب الدوله المستحيله الاسلام والسياسه ومازق الحداثه الاخلاقي عام ٢٠١٤، ولعل هذا الملحظ حول التوقيت غير ذي اهميه عند مؤلف الكتاب الذي اصدره في سياق اشتغاله الاكاديمي العام بتاريخ الشريعه، وهو الاشتغال الذي انتج اعمالا سبقت هذا الكتاب وتلته  \n",
            " لكن كتابه الاهم الشريعه النظريه والممارسه والتحولات الذي سبق الدوله المستحيله في الانجليزيه، والذي يشكل الاخير فرعا عنه واستكمالا له، لم يكن قد صدر بعد بالعربيه حين صدر كتاب الدوله المستحيله، وبهذا فقد الكتاب في النقاش العربي حوله اصلا مهما  لكن هذا السياق الذي يختلف اشد الاختلاف عن سياق صدور الاصل الانجليزي، حدد طبيعه الاستقبال العربي للكتاب بشكل كبير في الاطار العام للصراعات السياسيه والايديولوجيه التي سادت العالم العربي في هذا التوقيت؛ فهوجم الكتاب وانتقد، او اثني عليه ومدح، او دلس عليه وعلي مؤلفه استنادا الي طغيان الموقف القبلي من هذه الصراعات بشكل اساسي، دون التعرض غالبا لصلب اطروحته النظريه واطره الحاكمه او محاكمتها وانتقادها؛ فتركزت النقود التي قدمت علي بعض قشور الكتاب ونتائجه دون التعرض لصلب اطروحته كما اسلفنا  \n",
            " ا الشكر موصول هنا للمترجم الدكتور طارق عثمان علي ترجمته لهذا النص ووضعه في هامش ترجمه ما هي الشريعه   \n",
            " ب وهذه المواضع متعدده حتي اننا لم نجد في نقلها ما يفيد القارئ بقدر الاشاره اليها والاحاله عليها في الفصلين الاول من الكتابين المذكورين الشرق والغرب والدوله المستحيله  \n",
            " جـ في هذا يقول جينو بالمعيه فائقه ان اولئك الذين يهبون حاليا لمعاداه هذه الاوضاع، دون ان يعولوا في ذلك علي اي مبدا يرجع الي منظومه عليا، عاجزون عن علاج هذه الفوضي واقعيا، بل لعلهم يزيدون نارها تاريثا حين يغذون السير بعيدا في الاتجاه نفسه  انظر رينيه جينو عبد الواحد يحيي، ازمه العالم الحديث القاهره مدارات للابحاث والنشر، 2019، ص 163 \n",
            "(في, 'prep')\n",
            "(وقت, 'noun')\n",
            "(كانت, 'verb')\n",
            "(الموجه, 'noun')\n",
            "(الاولي, 'adj_num')\n",
            "(من, 'prep')\n",
            "(الربيع, 'noun')\n",
            "(العربي, 'adj')\n",
            "(وما, 'pron_rel')\n",
            "(استتبع, 'verb')\n",
            "(##ته من, 'prep')\n",
            "(تعديلات, 'noun')\n",
            "(دستوريه, 'adj')\n",
            "(في, 'prep')\n",
            "(عده دول, 'noun')\n",
            "(عربيه, 'adj')\n",
            "(وما, 'pron_rel')\n",
            "(حصل, 'verb')\n",
            "(من, 'prep')\n",
            "(سجالات حول موقع الاسلام, 'noun')\n",
            "(او, 'conj')\n",
            "(الشريعه, 'noun')\n",
            "(من, 'prep')\n",
            "(هذه, 'pron_dem')\n",
            "(التعديلات, 'noun')\n",
            "(الدستوريه, 'adj')\n",
            "(ومن, 'prep')\n",
            "(الدوله عموما والصراعات, 'noun')\n",
            "(السياسيه والايديولوجيه, 'adj')\n",
            "(بين التيارات, 'noun')\n",
            "(الفكريه والسياسيه العربيه الاسلاميه والعلمانيه, 'adj')\n",
            "(،, 'punc')\n",
            "(ما, 'part_neg')\n",
            "(زالت, 'verb')\n",
            "(قائمه, 'adj')\n",
            "(او, 'conj')\n",
            "(علي, 'prep')\n",
            "(الاقل, 'adj_comp')\n",
            "(ماثله, 'noun')\n",
            "(في, 'prep')\n",
            "(الاذهان, 'noun')\n",
            "(وحاضره, 'adj')\n",
            "(في, 'prep')\n",
            "(السجال, 'noun')\n",
            "(العام, 'adj')\n",
            "(،, 'punc')\n",
            "(في, 'prep')\n",
            "(هذا, 'pron_dem')\n",
            "(الوقت, 'noun')\n",
            "(المفصلي, 'adj')\n",
            "(في, 'prep')\n",
            "(التاريخ, 'noun')\n",
            "(العربي الحاضر, 'adj')\n",
            "(،, 'punc')\n",
            "(صدرت, 'verb')\n",
            "(الترجمه, 'noun')\n",
            "(العربيه, 'adj')\n",
            "(لكتاب الدوله, 'noun')\n",
            "(المستحيله, 'adj')\n",
            "(الاسلام والسياسه ومازق الحداثه, 'noun')\n",
            "(الاخلاقي, 'adj')\n",
            "(عام, 'noun')\n",
            "(٢٠١٤, 'digit')\n",
            "(،, 'punc')\n",
            "(ولعل, 'verb_pseudo')\n",
            "(هذا, 'pron_dem')\n",
            "(الملح, 'noun')\n",
            "(##ظ, 'adj')\n",
            "(حول التوقيت غير ذي اهميه عند مؤلف الكتاب, 'noun')\n",
            "(الذي, 'pron_rel')\n",
            "(اصدره, 'verb')\n",
            "(في, 'prep')\n",
            "(سياق اشتغاله, 'noun')\n",
            "(الاكاديمي العام, 'adj')\n",
            "(بتاريخ الشريعه, 'noun')\n",
            "(،, 'punc')\n",
            "(وهو, 'pron')\n",
            "(الاشتغال, 'noun')\n",
            "(الذي, 'pron_rel')\n",
            "(انتج, 'verb')\n",
            "(اعمالا, 'noun')\n",
            "(سبقت, 'verb')\n",
            "(هذا, 'pron_dem')\n",
            "(الكتاب, 'noun')\n",
            "(وتلته, 'verb')\n",
            "(لكن, 'verb_pseudo')\n",
            "(كتابه, 'noun')\n",
            "(الاهم, 'adj_comp')\n",
            "(الشريعه, 'noun')\n",
            "(النظري, 'adj')\n",
            "(##ه والممارسه والتحولات, 'noun')\n",
            "(الذي, 'pron_rel')\n",
            "(سبق, 'verb')\n",
            "(الدوله, 'noun')\n",
            "(المستحيله, 'adj')\n",
            "(في, 'prep')\n",
            "(الانجليزيه, 'noun')\n",
            "(،, 'punc')\n",
            "(والذي, 'pron_rel')\n",
            "(يشكل, 'verb')\n",
            "(الاخير, 'adj')\n",
            "(فرعا, 'noun')\n",
            "(عنه, 'prep')\n",
            "(واستكمالا, 'noun')\n",
            "(له, 'prep')\n",
            "(،, 'punc')\n",
            "(لم, 'part_neg')\n",
            "(يكن, 'verb')\n",
            "(قد, 'part_verb')\n",
            "(صدر, 'verb')\n",
            "(بعد بالعربي, 'noun')\n",
            "(##ه, 'noun_prop')\n",
            "(حين, 'noun')\n",
            "(صدر, 'verb')\n",
            "(كتاب الدوله, 'noun')\n",
            "(المستحيله, 'adj')\n",
            "(،, 'punc')\n",
            "(وبهذا, 'pron_dem')\n",
            "(فقد, 'verb')\n",
            "(الكتاب, 'noun')\n",
            "(في, 'prep')\n",
            "(النقاش, 'noun')\n",
            "(العربي, 'adj')\n",
            "(حوله اصلا, 'noun')\n",
            "(مهما, 'pron_rel')\n",
            "(لكن, 'verb_pseudo')\n",
            "(هذا, 'pron_dem')\n",
            "(السياق, 'noun')\n",
            "(الذي, 'pron_rel')\n",
            "(يختلف, 'verb')\n",
            "(اشد, 'adj_comp')\n",
            "(الاختلاف, 'noun')\n",
            "(عن, 'prep')\n",
            "(سياق صدور الاصل, 'noun')\n",
            "(الانجليزي, 'adj')\n",
            "(،, 'punc')\n",
            "(حدد, 'verb')\n",
            "(طبيعه الاستقبال, 'noun')\n",
            "(العربي, 'adj')\n",
            "(للكتاب بشكل, 'noun')\n",
            "(كبير, 'adj')\n",
            "(في, 'prep')\n",
            "(الاطار, 'noun')\n",
            "(العام, 'adj')\n",
            "(للصراعات, 'noun')\n",
            "(السياسيه والايديولوجيه, 'adj')\n",
            "(التي, 'pron_rel')\n",
            "(سادت, 'verb')\n",
            "(العالم, 'noun')\n",
            "(العربي, 'adj')\n",
            "(في, 'prep')\n",
            "(هذا, 'pron_dem')\n",
            "(التوقيت, 'noun')\n",
            "(؛, 'punc')\n",
            "(فهوجم, 'verb')\n",
            "(الكتاب, 'noun')\n",
            "(وانتقد, 'verb')\n",
            "(،, 'punc')\n",
            "(او, 'conj')\n",
            "(اثني, 'verb')\n",
            "(عليه, 'prep')\n",
            "(ومدح, 'verb')\n",
            "(،, 'punc')\n",
            "(او, 'conj')\n",
            "(دلس, 'verb')\n",
            "(عليه وعلي, 'prep')\n",
            "(مؤلفه استنادا, 'noun')\n",
            "(الي, 'prep')\n",
            "(طغيان الموقف, 'noun')\n",
            "(القبلي, 'adj')\n",
            "(من, 'prep')\n",
            "(هذه, 'pron_dem')\n",
            "(الصراعات بشكل, 'noun')\n",
            "(اساسي, 'adj')\n",
            "(،, 'punc')\n",
            "(دون التعرض, 'noun')\n",
            "(غالبا, 'adj')\n",
            "(لصلب اطروحته, 'noun')\n",
            "(النظريه, 'adj')\n",
            "(واط, 'noun_prop')\n",
            "(##ره, 'verb')\n",
            "(الحاكم, 'noun')\n",
            "(##ه, 'noun_prop')\n",
            "(او, 'conj')\n",
            "(محاكمتها وانتقادها, 'noun')\n",
            "(؛, 'punc')\n",
            "(فتركزت, 'verb')\n",
            "(النقود, 'noun')\n",
            "(التي, 'pron_rel')\n",
            "(قدمت, 'verb')\n",
            "(علي, 'prep')\n",
            "(بعض, 'noun_quant')\n",
            "(قشور الكتاب ونتائجه دون التعرض لصلب اطروحته, 'noun')\n",
            "(كما, 'conj_sub')\n",
            "(اسلف, 'verb')\n",
            "(##نا, 'prep')\n",
            "(ا, 'noun_prop')\n",
            "(الشكر, 'noun')\n",
            "(موصول, 'adj')\n",
            "(هنا, 'adv')\n",
            "(للمترجم الدكتور, 'noun')\n",
            "(طارق عثمان, 'noun_prop')\n",
            "(علي, 'prep')\n",
            "(ترجمته, 'noun')\n",
            "(لهذا, 'pron_dem')\n",
            "(النص, 'noun')\n",
            "(ووضع, 'verb')\n",
            "(##ه في, 'prep')\n",
            "(هامش ترجمه, 'noun')\n",
            "(ما, 'pron_rel')\n",
            "(هي, 'pron')\n",
            "(الشريعه, 'noun')\n",
            "(ب, 'abbrev')\n",
            "(وهذه, 'pron_dem')\n",
            "(المواضع, 'noun')\n",
            "(متعدده, 'adj')\n",
            "(حتي, 'prep')\n",
            "(اننا, 'conj_sub')\n",
            "(لم, 'part_neg')\n",
            "(نجد, 'verb')\n",
            "(في, 'prep')\n",
            "(نقلها, 'noun')\n",
            "(ما, 'pron_rel')\n",
            "(يفيد, 'verb')\n",
            "(القارئ بقدر الاشاره, 'noun')\n",
            "(اليها, 'prep')\n",
            "(والاحاله, 'noun')\n",
            "(عليها في, 'prep')\n",
            "(الفصلين, 'noun')\n",
            "(الاول, 'adj_num')\n",
            "(من, 'prep')\n",
            "(الكتاب, 'noun')\n",
            "(##ين المذكورين, 'adj')\n",
            "(الشرق والغرب والدوله, 'noun')\n",
            "(المستحيله, 'adj')\n",
            "(جـ, 'punc')\n",
            "(في, 'prep')\n",
            "(هذا, 'pron_dem')\n",
            "(يقول, 'verb')\n",
            "(جينو, 'noun_prop')\n",
            "(بالمعيه, 'noun')\n",
            "(فائقه, 'adj')\n",
            "(ان, 'conj_sub')\n",
            "(اولئك, 'noun')\n",
            "(الذين, 'pron_rel')\n",
            "(يهبون, 'verb')\n",
            "(حاليا, 'adj')\n",
            "(لمعاداه, 'noun')\n",
            "(هذه, 'pron_dem')\n",
            "(الاوضاع, 'noun')\n",
            "(،, 'punc')\n",
            "(دون, 'noun')\n",
            "(ان, 'conj_sub')\n",
            "(يعولوا, 'verb')\n",
            "(في, 'prep')\n",
            "(ذلك, 'pron_dem')\n",
            "(علي, 'prep')\n",
            "(اي, 'noun_quant')\n",
            "(مبدا, 'noun')\n",
            "(يرجع, 'verb')\n",
            "(الي, 'prep')\n",
            "(منظومه, 'noun')\n",
            "(عليا, 'adj')\n",
            "(،, 'punc')\n",
            "(عاجزون, 'adj')\n",
            "(عن, 'prep')\n",
            "(علاج, 'noun')\n",
            "(هذه, 'pron_dem')\n",
            "(الفوضي, 'noun')\n",
            "(واقعيا, 'adj')\n",
            "(،, 'punc')\n",
            "(بل, 'conj')\n",
            "(لعله, 'verb_pseudo')\n",
            "(##م, 'conj_sub')\n",
            "(يزيدون, 'verb')\n",
            "(نارها, 'noun')\n",
            "(تاريثا, 'adj')\n",
            "(حين, 'noun')\n",
            "(يغذون, 'verb')\n",
            "(السير بعيدا, 'noun')\n",
            "(في, 'prep')\n",
            "(الاتجاه نفسه, 'noun')\n",
            "(انظر, 'verb')\n",
            "(رينيه جينو عبد الواحد يحيي, 'noun_prop')\n",
            "(،, 'punc')\n",
            "(ازمه العالم, 'noun')\n",
            "(الحديث, 'adj')\n",
            "(القاهره, 'noun_prop')\n",
            "(مدارات للابحاث والنشر, 'noun')\n",
            "(،, 'punc')\n",
            "(2019, 'digit')\n",
            "(،, 'punc')\n",
            "(ص, 'abbrev')\n",
            "(163, 'digit')\n"
          ]
        }
      ]
    },
    {
      "cell_type": "code",
      "source": [
        "text = preprocess_with_camel( \"وصفتها الطفلة\")\n",
        "print(text)\n",
        "results = pos_tagger(text)\n",
        "\n",
        "for result in results:\n",
        "    print(f\"({result['word']}, '{result['entity_group']}')\")"
      ],
      "metadata": {
        "colab": {
          "base_uri": "https://localhost:8080/"
        },
        "id": "T3MtQNs1vGc3",
        "outputId": "faaaaef7-7c85-41e0-84cb-abf656dc551e"
      },
      "execution_count": null,
      "outputs": [
        {
          "output_type": "stream",
          "name": "stderr",
          "text": [
            "Asking to truncate to max_length but no maximum length is provided and the model has no predefined maximum length. Default to no truncation.\n"
          ]
        },
        {
          "output_type": "stream",
          "name": "stdout",
          "text": [
            "وصفتها الطفله\n",
            "(وصفت, 'verb')\n",
            "(##ها, 'prep')\n",
            "(الطفله, 'noun')\n"
          ]
        }
      ]
    },
    {
      "cell_type": "code",
      "source": [
        "results[0:20]"
      ],
      "metadata": {
        "colab": {
          "base_uri": "https://localhost:8080/"
        },
        "id": "1ft1_UWx9pzI",
        "outputId": "8fde33e6-bd59-4ef7-b0f5-7e3896fa646e"
      },
      "execution_count": null,
      "outputs": [
        {
          "output_type": "execute_result",
          "data": {
            "text/plain": [
              "[{'entity_group': 'prep',\n",
              "  'score': 0.999982,\n",
              "  'word': 'في',\n",
              "  'start': 0,\n",
              "  'end': 2},\n",
              " {'entity_group': 'noun',\n",
              "  'score': 0.9999826,\n",
              "  'word': 'وقت',\n",
              "  'start': 3,\n",
              "  'end': 6},\n",
              " {'entity_group': 'verb',\n",
              "  'score': 0.99997926,\n",
              "  'word': 'كانت',\n",
              "  'start': 7,\n",
              "  'end': 11},\n",
              " {'entity_group': 'noun',\n",
              "  'score': 0.99993956,\n",
              "  'word': 'الموجه',\n",
              "  'start': 12,\n",
              "  'end': 18},\n",
              " {'entity_group': 'adj_num',\n",
              "  'score': 0.9957718,\n",
              "  'word': 'الاولي',\n",
              "  'start': 19,\n",
              "  'end': 25},\n",
              " {'entity_group': 'prep',\n",
              "  'score': 0.999979,\n",
              "  'word': 'من',\n",
              "  'start': 26,\n",
              "  'end': 28},\n",
              " {'entity_group': 'noun',\n",
              "  'score': 0.99975723,\n",
              "  'word': 'الربيع',\n",
              "  'start': 29,\n",
              "  'end': 35},\n",
              " {'entity_group': 'adj',\n",
              "  'score': 0.99984205,\n",
              "  'word': 'العربي',\n",
              "  'start': 36,\n",
              "  'end': 42},\n",
              " {'entity_group': 'pron_rel',\n",
              "  'score': 0.98571473,\n",
              "  'word': 'وما',\n",
              "  'start': 43,\n",
              "  'end': 46},\n",
              " {'entity_group': 'verb',\n",
              "  'score': 0.9999672,\n",
              "  'word': 'استتبع',\n",
              "  'start': 47,\n",
              "  'end': 53},\n",
              " {'entity_group': 'prep',\n",
              "  'score': 0.8181222,\n",
              "  'word': '##ته من',\n",
              "  'start': 53,\n",
              "  'end': 58},\n",
              " {'entity_group': 'noun',\n",
              "  'score': 0.9999846,\n",
              "  'word': 'تعديلات',\n",
              "  'start': 59,\n",
              "  'end': 66},\n",
              " {'entity_group': 'adj',\n",
              "  'score': 0.99990344,\n",
              "  'word': 'دستوريه',\n",
              "  'start': 67,\n",
              "  'end': 74},\n",
              " {'entity_group': 'prep',\n",
              "  'score': 0.9999846,\n",
              "  'word': 'في',\n",
              "  'start': 75,\n",
              "  'end': 77},\n",
              " {'entity_group': 'noun',\n",
              "  'score': 0.9996881,\n",
              "  'word': 'عده دول',\n",
              "  'start': 78,\n",
              "  'end': 85},\n",
              " {'entity_group': 'adj',\n",
              "  'score': 0.99953854,\n",
              "  'word': 'عربيه',\n",
              "  'start': 86,\n",
              "  'end': 91},\n",
              " {'entity_group': 'pron_rel',\n",
              "  'score': 0.9658201,\n",
              "  'word': 'وما',\n",
              "  'start': 92,\n",
              "  'end': 95},\n",
              " {'entity_group': 'verb',\n",
              "  'score': 0.99996114,\n",
              "  'word': 'حصل',\n",
              "  'start': 96,\n",
              "  'end': 99},\n",
              " {'entity_group': 'prep',\n",
              "  'score': 0.99997544,\n",
              "  'word': 'من',\n",
              "  'start': 100,\n",
              "  'end': 102},\n",
              " {'entity_group': 'noun',\n",
              "  'score': 0.97288465,\n",
              "  'word': 'سجالات حول موقع الاسلام',\n",
              "  'start': 103,\n",
              "  'end': 126}]"
            ]
          },
          "metadata": {},
          "execution_count": 33
        }
      ]
    },
    {
      "cell_type": "markdown",
      "source": [
        "### **NetworKX**"
      ],
      "metadata": {
        "id": "6NArTbzFwVXu"
      }
    },
    {
      "cell_type": "code",
      "source": [
        "\n",
        "# Create graph\n",
        "G = nx.DiGraph()\n",
        "\n",
        "# Add nodes and edges\n",
        "for i, result in enumerate(results[0:20]):\n",
        "    word = result['word']\n",
        "    pos = result['entity_group']\n",
        "    G.add_node(i, label=f\"{word}\\n{pos}\")\n",
        "\n",
        "    # Connect to next word\n",
        "    if i > 0:\n",
        "        G.add_edge(i-1, i)\n",
        "\n",
        "# Draw graph\n",
        "plt.figure(figsize=(10, 6))\n",
        "pos = nx.spring_layout(G, k=3, seed=42)\n",
        "\n",
        "# Draw nodes as blue circles\n",
        "nx.draw_networkx_nodes(G, pos, node_color='#4285f4',\n",
        "                       node_size=3000, alpha=0.9)\n",
        "\n",
        "# Draw edges with arrows\n",
        "nx.draw_networkx_edges(G, pos, edge_color='gray',\n",
        "                       arrows=True, arrowsize=20, width=2)\n",
        "\n",
        "# Add labels\n",
        "labels = nx.get_node_attributes(G, 'label')\n",
        "nx.draw_networkx_labels(G, pos, labels, font_size=12,\n",
        "                        font_color='white', font_weight='bold')\n",
        "\n",
        "plt.title(\"Arabic POS Network Graph\", size=16, weight='bold')\n",
        "plt.axis('off')\n",
        "plt.tight_layout()\n",
        "plt.show()"
      ],
      "metadata": {
        "colab": {
          "base_uri": "https://localhost:8080/",
          "height": 607
        },
        "id": "xVgqk6Nr24mi",
        "outputId": "01bacc23-770b-4401-cb9b-4d86a5b25e8f"
      },
      "execution_count": null,
      "outputs": [
        {
          "output_type": "display_data",
          "data": {
            "text/plain": [
              "<Figure size 1000x600 with 1 Axes>"
            ],
            "image/png": "[encoded data removed]"
          },
          "metadata": {}
        }
      ]
    }
  ]
}